{
 "cells": [
  {
   "cell_type": "code",
   "execution_count": 1,
   "id": "2c3cca64-5957-4a2a-abd0-688ef35b61ee",
   "metadata": {},
   "outputs": [
    {
     "data": {
      "text/html": [
       "<div>\n",
       "<style scoped>\n",
       "    .dataframe tbody tr th:only-of-type {\n",
       "        vertical-align: middle;\n",
       "    }\n",
       "\n",
       "    .dataframe tbody tr th {\n",
       "        vertical-align: top;\n",
       "    }\n",
       "\n",
       "    .dataframe thead th {\n",
       "        text-align: right;\n",
       "    }\n",
       "</style>\n",
       "<table border=\"1\" class=\"dataframe\">\n",
       "  <thead>\n",
       "    <tr style=\"text-align: right;\">\n",
       "      <th></th>\n",
       "      <th>variance</th>\n",
       "      <th>skewness</th>\n",
       "      <th>curtosis</th>\n",
       "      <th>entropy</th>\n",
       "      <th>class</th>\n",
       "    </tr>\n",
       "  </thead>\n",
       "  <tbody>\n",
       "    <tr>\n",
       "      <th>0</th>\n",
       "      <td>3.62160</td>\n",
       "      <td>8.6661</td>\n",
       "      <td>-2.8073</td>\n",
       "      <td>-0.44699</td>\n",
       "      <td>0</td>\n",
       "    </tr>\n",
       "    <tr>\n",
       "      <th>1</th>\n",
       "      <td>4.54590</td>\n",
       "      <td>8.1674</td>\n",
       "      <td>-2.4586</td>\n",
       "      <td>-1.46210</td>\n",
       "      <td>0</td>\n",
       "    </tr>\n",
       "    <tr>\n",
       "      <th>2</th>\n",
       "      <td>3.86600</td>\n",
       "      <td>-2.6383</td>\n",
       "      <td>1.9242</td>\n",
       "      <td>0.10645</td>\n",
       "      <td>0</td>\n",
       "    </tr>\n",
       "    <tr>\n",
       "      <th>3</th>\n",
       "      <td>3.45660</td>\n",
       "      <td>9.5228</td>\n",
       "      <td>-4.0112</td>\n",
       "      <td>-3.59440</td>\n",
       "      <td>0</td>\n",
       "    </tr>\n",
       "    <tr>\n",
       "      <th>4</th>\n",
       "      <td>0.32924</td>\n",
       "      <td>-4.4552</td>\n",
       "      <td>4.5718</td>\n",
       "      <td>-0.98880</td>\n",
       "      <td>0</td>\n",
       "    </tr>\n",
       "  </tbody>\n",
       "</table>\n",
       "</div>"
      ],
      "text/plain": [
       "   variance  skewness  curtosis  entropy  class\n",
       "0   3.62160    8.6661   -2.8073 -0.44699      0\n",
       "1   4.54590    8.1674   -2.4586 -1.46210      0\n",
       "2   3.86600   -2.6383    1.9242  0.10645      0\n",
       "3   3.45660    9.5228   -4.0112 -3.59440      0\n",
       "4   0.32924   -4.4552    4.5718 -0.98880      0"
      ]
     },
     "execution_count": 1,
     "metadata": {},
     "output_type": "execute_result"
    }
   ],
   "source": [
    "# tutorial is based on https://stackabuse.com/implementing-svm-and-kernel-svm-with-pythons-scikit-learn/\n",
    "\n",
    "import pandas as pd\n",
    "\n",
    "data_link = \"https://archive.ics.uci.edu/ml/machine-learning-databases/00267/data_banknote_authentication.txt\"\n",
    "col_names = [\"variance\", \"skewness\", \"curtosis\", \"entropy\", \"class\"]\n",
    "\n",
    "bankdata = pd.read_csv(data_link, names=col_names, sep=\",\", header=None)\n",
    "bankdata.head()"
   ]
  },
  {
   "cell_type": "code",
   "execution_count": 2,
   "id": "24dc2f1f-5dfc-4c4b-9c88-98b11082e0d9",
   "metadata": {},
   "outputs": [
    {
     "data": {
      "text/plain": [
       "array([0, 1])"
      ]
     },
     "execution_count": 2,
     "metadata": {},
     "output_type": "execute_result"
    }
   ],
   "source": [
    "bankdata['class'].unique()"
   ]
  },
  {
   "cell_type": "code",
   "execution_count": 3,
   "id": "ffb47255-daf5-4af1-a506-f6e20a161d00",
   "metadata": {},
   "outputs": [
    {
     "data": {
      "text/plain": [
       "class\n",
       "0    762\n",
       "1    610\n",
       "Name: count, dtype: int64"
      ]
     },
     "execution_count": 3,
     "metadata": {},
     "output_type": "execute_result"
    }
   ],
   "source": [
    "bankdata['class'].value_counts()"
   ]
  },
  {
   "cell_type": "code",
   "execution_count": 4,
   "id": "a6a46325-24d8-40b9-bea6-bda121708f62",
   "metadata": {},
   "outputs": [
    {
     "data": {
      "text/plain": [
       "class\n",
       "0    0.555394\n",
       "1    0.444606\n",
       "Name: proportion, dtype: float64"
      ]
     },
     "execution_count": 4,
     "metadata": {},
     "output_type": "execute_result"
    }
   ],
   "source": [
    "bankdata['class'].value_counts(normalize=True)"
   ]
  },
  {
   "cell_type": "code",
   "execution_count": 5,
   "id": "8c5f972a-1dc3-45df-9b44-28bef61faad5",
   "metadata": {},
   "outputs": [
    {
     "data": {
      "image/png": "[encoded data removed]",
      "text/plain": [
       "<Figure size 640x480 with 1 Axes>"
      ]
     },
     "metadata": {},
     "output_type": "display_data"
    }
   ],
   "source": [
    "bankdata['class'].plot.hist();"
   ]
  },
  {
   "cell_type": "code",
   "execution_count": 6,
   "id": "e8f2db3c-d6c6-4fc9-bd92-de46e5a9ca13",
   "metadata": {},
   "outputs": [
    {
     "data": {
      "text/html": [
       "<div>\n",
       "<style scoped>\n",
       "    .dataframe tbody tr th:only-of-type {\n",
       "        vertical-align: middle;\n",
       "    }\n",
       "\n",
       "    .dataframe tbody tr th {\n",
       "        vertical-align: top;\n",
       "    }\n",
       "\n",
       "    .dataframe thead th {\n",
       "        text-align: right;\n",
       "    }\n",
       "</style>\n",
       "<table border=\"1\" class=\"dataframe\">\n",
       "  <thead>\n",
       "    <tr style=\"text-align: right;\">\n",
       "      <th></th>\n",
       "      <th>count</th>\n",
       "      <th>mean</th>\n",
       "      <th>std</th>\n",
       "      <th>min</th>\n",
       "      <th>25%</th>\n",
       "      <th>50%</th>\n",
       "      <th>75%</th>\n",
       "      <th>max</th>\n",
       "    </tr>\n",
       "  </thead>\n",
       "  <tbody>\n",
       "    <tr>\n",
       "      <th>variance</th>\n",
       "      <td>1372.0</td>\n",
       "      <td>0.433735</td>\n",
       "      <td>2.842763</td>\n",
       "      <td>-7.0421</td>\n",
       "      <td>-1.773000</td>\n",
       "      <td>0.49618</td>\n",
       "      <td>2.821475</td>\n",
       "      <td>6.8248</td>\n",
       "    </tr>\n",
       "    <tr>\n",
       "      <th>skewness</th>\n",
       "      <td>1372.0</td>\n",
       "      <td>1.922353</td>\n",
       "      <td>5.869047</td>\n",
       "      <td>-13.7731</td>\n",
       "      <td>-1.708200</td>\n",
       "      <td>2.31965</td>\n",
       "      <td>6.814625</td>\n",
       "      <td>12.9516</td>\n",
       "    </tr>\n",
       "    <tr>\n",
       "      <th>curtosis</th>\n",
       "      <td>1372.0</td>\n",
       "      <td>1.397627</td>\n",
       "      <td>4.310030</td>\n",
       "      <td>-5.2861</td>\n",
       "      <td>-1.574975</td>\n",
       "      <td>0.61663</td>\n",
       "      <td>3.179250</td>\n",
       "      <td>17.9274</td>\n",
       "    </tr>\n",
       "    <tr>\n",
       "      <th>entropy</th>\n",
       "      <td>1372.0</td>\n",
       "      <td>-1.191657</td>\n",
       "      <td>2.101013</td>\n",
       "      <td>-8.5482</td>\n",
       "      <td>-2.413450</td>\n",
       "      <td>-0.58665</td>\n",
       "      <td>0.394810</td>\n",
       "      <td>2.4495</td>\n",
       "    </tr>\n",
       "    <tr>\n",
       "      <th>class</th>\n",
       "      <td>1372.0</td>\n",
       "      <td>0.444606</td>\n",
       "      <td>0.497103</td>\n",
       "      <td>0.0000</td>\n",
       "      <td>0.000000</td>\n",
       "      <td>0.00000</td>\n",
       "      <td>1.000000</td>\n",
       "      <td>1.0000</td>\n",
       "    </tr>\n",
       "  </tbody>\n",
       "</table>\n",
       "</div>"
      ],
      "text/plain": [
       "           count      mean       std      min       25%      50%       75%  \\\n",
       "variance  1372.0  0.433735  2.842763  -7.0421 -1.773000  0.49618  2.821475   \n",
       "skewness  1372.0  1.922353  5.869047 -13.7731 -1.708200  2.31965  6.814625   \n",
       "curtosis  1372.0  1.397627  4.310030  -5.2861 -1.574975  0.61663  3.179250   \n",
       "entropy   1372.0 -1.191657  2.101013  -8.5482 -2.413450 -0.58665  0.394810   \n",
       "class     1372.0  0.444606  0.497103   0.0000  0.000000  0.00000  1.000000   \n",
       "\n",
       "              max  \n",
       "variance   6.8248  \n",
       "skewness  12.9516  \n",
       "curtosis  17.9274  \n",
       "entropy    2.4495  \n",
       "class      1.0000  "
      ]
     },
     "execution_count": 6,
     "metadata": {},
     "output_type": "execute_result"
    }
   ],
   "source": [
    "bankdata.describe().T"
   ]
  },
  {
   "cell_type": "code",
   "execution_count": 7,
   "id": "0fa93bc1-a373-4669-ad0d-43c5ac5bdc5b",
   "metadata": {},
   "outputs": [],
   "source": [
    "# predictors vs class\n",
    "y = bankdata['class']\n",
    "X = bankdata.drop('class', axis=1) # axis=1 means dropping from the column axis"
   ]
  },
  {
   "cell_type": "code",
   "execution_count": 8,
   "id": "bddc52cb-d760-4516-a331-b174666507af",
   "metadata": {},
   "outputs": [],
   "source": [
    "from sklearn.model_selection import train_test_split\n",
    "SEED = 42\n",
    "X_train, X_test, y_train, y_test = train_test_split(X, y, test_size = 0.20, random_state = SEED)"
   ]
  },
  {
   "cell_type": "code",
   "execution_count": 9,
   "id": "6d2f0334-9625-49c3-964b-cbc2780d596e",
   "metadata": {},
   "outputs": [
    {
     "name": "stdout",
     "output_type": "stream",
     "text": [
      "There are 1097 samples for training and 275 samples for testing.\n"
     ]
    }
   ],
   "source": [
    "xtrain_samples = X_train.shape[0]\n",
    "xtest_samples = X_test.shape[0]\n",
    "\n",
    "print(f'There are {xtrain_samples} samples for training and {xtest_samples} samples for testing.')"
   ]
  },
  {
   "cell_type": "code",
   "execution_count": 10,
   "id": "cca3f052-5c02-4f28-ac1c-486f507d1035",
   "metadata": {},
   "outputs": [],
   "source": [
    "from sklearn.svm import SVC\n",
    "svc = SVC(kernel='rbf',verbose=1,gamma=0.25) # auto means, gamma = 1/nfeatures"
   ]
  },
  {
   "cell_type": "code",
   "execution_count": 11,
   "id": "8be301f2-a39a-4f9a-9937-ec2ae5cb8763",
   "metadata": {},
   "outputs": [
    {
     "name": "stdout",
     "output_type": "stream",
     "text": [
      "[LibSVM]*\n",
      "optimization finished, #iter = 818\n",
      "obj = -40.031063, rho = -0.142910\n",
      "nSV = 240, nBSV = 4\n",
      "Total nSV = 240\n"
     ]
    },
    {
     "data": {
      "text/html": [
       "<style>#sk-container-id-1 {color: black;}#sk-container-id-1 pre{padding: 0;}#sk-container-id-1 div.sk-toggleable {background-color: white;}#sk-container-id-1 label.sk-toggleable__label {cursor: pointer;display: block;width: 100%;margin-bottom: 0;padding: 0.3em;box-sizing: border-box;text-align: center;}#sk-container-id-1 label.sk-toggleable__label-arrow:before {content: \"▸\";float: left;margin-right: 0.25em;color: #696969;}#sk-container-id-1 label.sk-toggleable__label-arrow:hover:before {color: black;}#sk-container-id-1 div.sk-estimator:hover label.sk-toggleable__label-arrow:before {color: black;}#sk-container-id-1 div.sk-toggleable__content {max-height: 0;max-width: 0;overflow: hidden;text-align: left;background-color: #f0f8ff;}#sk-container-id-1 div.sk-toggleable__content pre {margin: 0.2em;color: black;border-radius: 0.25em;background-color: #f0f8ff;}#sk-container-id-1 input.sk-toggleable__control:checked~div.sk-toggleable__content {max-height: 200px;max-width: 100%;overflow: auto;}#sk-container-id-1 input.sk-toggleable__control:checked~label.sk-toggleable__label-arrow:before {content: \"▾\";}#sk-container-id-1 div.sk-estimator input.sk-toggleable__control:checked~label.sk-toggleable__label {background-color: #d4ebff;}#sk-container-id-1 div.sk-label input.sk-toggleable__control:checked~label.sk-toggleable__label {background-color: #d4ebff;}#sk-container-id-1 input.sk-hidden--visually {border: 0;clip: rect(1px 1px 1px 1px);clip: rect(1px, 1px, 1px, 1px);height: 1px;margin: -1px;overflow: hidden;padding: 0;position: absolute;width: 1px;}#sk-container-id-1 div.sk-estimator {font-family: monospace;background-color: #f0f8ff;border: 1px dotted black;border-radius: 0.25em;box-sizing: border-box;margin-bottom: 0.5em;}#sk-container-id-1 div.sk-estimator:hover {background-color: #d4ebff;}#sk-container-id-1 div.sk-parallel-item::after {content: \"\";width: 100%;border-bottom: 1px solid gray;flex-grow: 1;}#sk-container-id-1 div.sk-label:hover label.sk-toggleable__label {background-color: #d4ebff;}#sk-container-id-1 div.sk-serial::before {content: \"\";position: absolute;border-left: 1px solid gray;box-sizing: border-box;top: 0;bottom: 0;left: 50%;z-index: 0;}#sk-container-id-1 div.sk-serial {display: flex;flex-direction: column;align-items: center;background-color: white;padding-right: 0.2em;padding-left: 0.2em;position: relative;}#sk-container-id-1 div.sk-item {position: relative;z-index: 1;}#sk-container-id-1 div.sk-parallel {display: flex;align-items: stretch;justify-content: center;background-color: white;position: relative;}#sk-container-id-1 div.sk-item::before, #sk-container-id-1 div.sk-parallel-item::before {content: \"\";position: absolute;border-left: 1px solid gray;box-sizing: border-box;top: 0;bottom: 0;left: 50%;z-index: -1;}#sk-container-id-1 div.sk-parallel-item {display: flex;flex-direction: column;z-index: 1;position: relative;background-color: white;}#sk-container-id-1 div.sk-parallel-item:first-child::after {align-self: flex-end;width: 50%;}#sk-container-id-1 div.sk-parallel-item:last-child::after {align-self: flex-start;width: 50%;}#sk-container-id-1 div.sk-parallel-item:only-child::after {width: 0;}#sk-container-id-1 div.sk-dashed-wrapped {border: 1px dashed gray;margin: 0 0.4em 0.5em 0.4em;box-sizing: border-box;padding-bottom: 0.4em;background-color: white;}#sk-container-id-1 div.sk-label label {font-family: monospace;font-weight: bold;display: inline-block;line-height: 1.2em;}#sk-container-id-1 div.sk-label-container {text-align: center;}#sk-container-id-1 div.sk-container {/* jupyter's `normalize.less` sets `[hidden] { display: none; }` but bootstrap.min.css set `[hidden] { display: none !important; }` so we also need the `!important` here to be able to override the default hidden behavior on the sphinx rendered scikit-learn.org. See: https://github.com/scikit-learn/scikit-learn/issues/21755 */display: inline-block !important;position: relative;}#sk-container-id-1 div.sk-text-repr-fallback {display: none;}</style><div id=\"sk-container-id-1\" class=\"sk-top-container\"><div class=\"sk-text-repr-fallback\"><pre>SVC(gamma=0.25, verbose=1)</pre><b>In a Jupyter environment, please rerun this cell to show the HTML representation or trust the notebook. <br />On GitHub, the HTML representation is unable to render, please try loading this page with nbviewer.org.</b></div><div class=\"sk-container\" hidden><div class=\"sk-item\"><div class=\"sk-estimator sk-toggleable\"><input class=\"sk-toggleable__control sk-hidden--visually\" id=\"sk-estimator-id-1\" type=\"checkbox\" checked><label for=\"sk-estimator-id-1\" class=\"sk-toggleable__label sk-toggleable__label-arrow\">SVC</label><div class=\"sk-toggleable__content\"><pre>SVC(gamma=0.25, verbose=1)</pre></div></div></div></div></div>"
      ],
      "text/plain": [
       "SVC(gamma=0.25, verbose=1)"
      ]
     },
     "execution_count": 11,
     "metadata": {},
     "output_type": "execute_result"
    }
   ],
   "source": [
    "svc.fit(X_train, y_train)"
   ]
  },
  {
   "cell_type": "code",
   "execution_count": 12,
   "id": "cf1b973b-7e59-4de3-bc8e-8f9d660a99c4",
   "metadata": {},
   "outputs": [],
   "source": [
    "y_pred = svc.predict(X_test)"
   ]
  },
  {
   "cell_type": "code",
   "execution_count": 13,
   "id": "10a43205-4e63-4d16-9acb-6d1aa3e4c2e8",
   "metadata": {},
   "outputs": [
    {
     "name": "stdout",
     "output_type": "stream",
     "text": [
      "              precision    recall  f1-score   support\n",
      "\n",
      "           0       1.00      1.00      1.00       148\n",
      "           1       1.00      1.00      1.00       127\n",
      "\n",
      "    accuracy                           1.00       275\n",
      "   macro avg       1.00      1.00      1.00       275\n",
      "weighted avg       1.00      1.00      1.00       275\n",
      "\n"
     ]
    },
    {
     "data": {
      "image/png": "[encoded data removed]",
      "text/plain": [
       "<Figure size 640x480 with 2 Axes>"
      ]
     },
     "metadata": {},
     "output_type": "display_data"
    }
   ],
   "source": [
    "import seaborn as sns\n",
    "from sklearn.metrics import classification_report, confusion_matrix\n",
    "\n",
    "cm = confusion_matrix(y_test,y_pred)\n",
    "sns.heatmap(cm, annot=True, fmt='d').set_title('Confusion matrix of linear SVM') # fmt='d' formats the numbers as digits, which means integers\n",
    "\n",
    "print(classification_report(y_test,y_pred))"
   ]
  },
  {
   "cell_type": "code",
   "execution_count": 14,
   "id": "a85baa40-45b2-474a-9ac6-09c3bd58e1ee",
   "metadata": {},
   "outputs": [
    {
     "name": "stdout",
     "output_type": "stream",
     "text": [
      "              precision    recall  f1-score   support\n",
      "\n",
      "           0       1.00      1.00      1.00       614\n",
      "           1       1.00      1.00      1.00       483\n",
      "\n",
      "    accuracy                           1.00      1097\n",
      "   macro avg       1.00      1.00      1.00      1097\n",
      "weighted avg       1.00      1.00      1.00      1097\n",
      "\n"
     ]
    },
    {
     "data": {
      "image/png": "[encoded data removed]",
      "text/plain": [
       "<Figure size 640x480 with 2 Axes>"
      ]
     },
     "metadata": {},
     "output_type": "display_data"
    }
   ],
   "source": [
    "y_pred_train = svc.predict(X_train)\n",
    "\n",
    "cm_train = confusion_matrix(y_train,y_pred_train)\n",
    "sns.heatmap(cm_train, annot=True, fmt='d').set_title('Confusion matrix of linear SVM with train data')\n",
    "\n",
    "print(classification_report(y_train,y_pred_train))"
   ]
  },
  {
   "cell_type": "code",
   "execution_count": 15,
   "id": "7496924c-bf20-4049-8d7c-18b2345cac9d",
   "metadata": {},
   "outputs": [
    {
     "name": "stdout",
     "output_type": "stream",
     "text": [
      "[134 106]\n"
     ]
    }
   ],
   "source": [
    "svc.get_params()\n",
    "print(svc.n_support_)"
   ]
  },
  {
   "cell_type": "code",
   "execution_count": 16,
   "id": "da7c4507-99a1-4a66-baa9-9dd749eefcb1",
   "metadata": {},
   "outputs": [],
   "source": [
    "# get the actual output of SVM\n",
    "decision_function = svc.decision_function(X_test)"
   ]
  },
  {
   "cell_type": "code",
   "execution_count": 17,
   "id": "98aaaae9-3e99-4bea-ad22-f8cfd4e692e0",
   "metadata": {},
   "outputs": [
    {
     "name": "stdout",
     "output_type": "stream",
     "text": [
      "[-1.16474372 -1.00000398 -0.94043839 -1.07545647 -1.03390499 -1.01259242\n",
      " -0.95736237 -1.15249297 -1.19046994 -1.0186568   1.11282272  1.0380247\n",
      " -1.12159639  1.1299     -0.97473187  1.15106865  1.21369472  1.21523898\n",
      "  0.88847043  0.88071385 -1.07065518 -1.0857772   0.95055697 -0.92999779\n",
      "  1.02718156 -1.12357577 -0.99126499  1.21779562 -1.02092671 -1.01891744\n",
      "  1.04921744 -1.11228635 -1.1895925   1.0494126   0.98873831 -1.08717908\n",
      "  1.05788104  1.33047532  1.06637648 -1.05785204 -1.08475962  1.0559138\n",
      "  1.10796377 -1.05861549  1.2383272   1.13076298  1.22509633 -1.21691614\n",
      " -0.99777796  1.15625312 -1.11270092 -1.10916838 -1.05235753 -1.16640881\n",
      " -1.019097    1.06480427 -1.10058128 -1.15233282 -1.12422244 -1.0500774\n",
      "  1.27932728 -1.05075036  1.06483006 -0.9302068  -1.06956037 -1.14429608\n",
      " -1.072282   -1.0695606  -1.07923077  1.03259278  0.9355135  -1.05306496\n",
      "  1.0457667  -1.10485725  0.89727827 -1.00005656 -1.04863542  1.04650965\n",
      "  0.99161238  1.00138028  0.99891669 -0.66752403  1.05099001 -0.97280608\n",
      " -0.98488403 -1.04243171 -1.06348031  1.13955643  1.01572951 -1.10802999\n",
      " -1.04253591 -1.00742178  1.12057258  1.03962948 -1.13290391  1.13215377\n",
      "  1.10245752 -0.96101625 -1.07060987 -0.64286948  1.07576354 -0.91434556\n",
      " -1.08873158 -0.83587765  0.96666902 -1.14845913 -1.08607768  1.07705244\n",
      "  0.89660373  1.049589    1.08609192  1.07333864 -0.97722498  1.12601225\n",
      "  0.56595285  1.0296054  -1.1134911   1.02334518  1.1180433  -1.12237754\n",
      "  1.0018197  -1.16184382  1.07653813 -1.06617222  0.88059296 -0.99784913\n",
      "  1.09049418  1.10085486 -1.14260846  1.15141277  1.04765803 -1.02264991\n",
      " -1.00588847 -1.05196078 -1.17411718 -1.08538364  1.2345737  -1.11258229\n",
      " -1.15999479 -1.00013563 -0.99096165 -1.21484088  1.13740086 -1.03696896\n",
      "  1.08434475  1.00248193  1.06913301  1.08057717  0.98787748 -1.10487158\n",
      "  1.11821977  1.34984699  1.14068501 -1.17896397  1.22445611 -1.07999051\n",
      "  1.06716547 -1.0944131  -1.12209491 -1.13468341  1.14053454  1.06230927\n",
      "  1.20482122  0.91384897  1.35805572 -1.08788866  1.11275994 -0.97344516\n",
      " -1.12673772 -1.04340083 -1.03626137 -1.10620764 -1.02606833  1.20709977\n",
      " -1.03756045 -1.10587206  1.2249225   1.05435285 -1.0831274  -1.15752997\n",
      " -1.06573247 -1.1369355   1.02624405 -1.17452047  1.32337673 -1.0567637\n",
      "  0.95999467  1.08822466 -1.04342447 -1.09264192  1.08543334 -1.16050872\n",
      " -1.14761842  0.99512365  1.1665309   1.4831301   1.26172342 -0.93333171\n",
      " -0.98721683  1.13996773  1.04255235  1.11199176 -1.20930573 -1.10121376\n",
      "  1.48867814  1.01000599  0.91288155  1.1040046  -1.10266287 -1.05205271\n",
      " -0.99985357 -0.9409704  -1.07606007 -0.94004894 -0.90376642 -1.10467635\n",
      " -1.00005656 -1.12413283  0.97392992  0.96547579  1.26238987  1.19878539\n",
      "  1.11073252 -1.02208131  1.17467895 -1.01074763 -0.88971178  1.05424995\n",
      "  1.09156914  1.08252034  0.96794998 -1.04538766  1.06278769 -1.05546465\n",
      "  1.07338792  1.03442921  1.51650834  1.19967418 -1.12330231 -1.17751296\n",
      " -1.10699222  0.88684487 -1.11979404  1.14424883  1.17777839  1.07884776\n",
      " -1.04363686 -0.96696819 -1.04852372 -1.12999227 -1.04555329 -1.07076002\n",
      "  1.15809035 -1.00014658  0.93184255 -1.04678267 -1.1218444  -1.02596667\n",
      "  1.16246165  1.31241435 -1.12244531 -1.03935143 -1.08547791  1.04232416\n",
      "  1.12170686 -1.16537304  1.24754138 -1.05791685  1.0595006   0.892437\n",
      "  1.0680375   1.08327258 -1.18089318 -1.00000509 -1.03156694]\n"
     ]
    }
   ],
   "source": [
    "print(decision_function)"
   ]
  },
  {
   "cell_type": "code",
   "execution_count": 19,
   "id": "f639f38f-7dad-4a45-86eb-1f16aa5ee2eb",
   "metadata": {},
   "outputs": [
    {
     "name": "stdout",
     "output_type": "stream",
     "text": [
      "svc.gamma:  0.25\n",
      "svc.degree:  3\n"
     ]
    }
   ],
   "source": [
    "import numpy as np\n",
    "print(\"svc.gamma: \", svc.gamma)\n",
    "print(\"svc.degree: \", svc.degree)\n",
    "\n",
    "sv=open(\"../data-kernel-model-rbf/support_vectors_rbf.txt\",\"w\")\n",
    "dual_coeff=open(\"../data-kernel-model-rbf/dual_coeff_rbf.txt\",\"w\")\n",
    "intercept=open(\"../data-kernel-model-rbf/intercept_rbf.txt\",\"w\")\n",
    "xtestSample=\"../data-kernel-model-rbf/xtest_rbf.txt\"\n",
    "ytestSample=\"../data-kernel-model-rbf/ytest_rbf.txt\"\n",
    "ytestClassificationScore=\"../data-kernel-model-rbf/yclassificationscore.txt\"\n",
    "\n",
    "np.savetxt(sv,svc.support_vectors_)\n",
    "    \n",
    "np.savetxt(dual_coeff,svc.dual_coef_,delimiter=' ')\n",
    "np.savetxt(intercept,svc.intercept_,delimiter=' ')\n",
    "\n",
    "with open(xtestSample, \"w\") as f1:\n",
    "    for item in X_test.head(1).iloc[0].values:\n",
    "        f1.write(str(item) + \" \")\n",
    "        \n",
    "np.savetxt(ytestSample,y_test.head(1), delimiter=' ')\n",
    "with open(ytestClassificationScore, \"w\") as f2:\n",
    "    f2.write(str(decision_function[0]))\n",
    "    \n",
    "sv.close()\n",
    "dual_coeff.close()\n",
    "intercept.close()\n",
    "f1.close()\n",
    "f2.close()"
   ]
  },
  {
   "cell_type": "code",
   "execution_count": null,
   "id": "b973e4f0-0e4f-424a-a4d9-a56905e6d260",
   "metadata": {},
   "outputs": [],
   "source": []
  }
 ],
 "metadata": {
  "kernelspec": {
   "display_name": "Python 3 (ipykernel)",
   "language": "python",
   "name": "python3"
  },
  "language_info": {
   "codemirror_mode": {
    "name": "ipython",
    "version": 3
   },
   "file_extension": ".py",
   "mimetype": "text/x-python",
   "name": "python",
   "nbconvert_exporter": "python",
   "pygments_lexer": "ipython3",
   "version": "3.10.12"
  }
 },
 "nbformat": 4,
 "nbformat_minor": 5
}
