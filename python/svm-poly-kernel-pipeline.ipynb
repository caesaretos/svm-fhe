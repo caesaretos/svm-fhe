{
 "cells": [
  {
   "cell_type": "code",
   "execution_count": 121,
   "id": "2c3cca64-5957-4a2a-abd0-688ef35b61ee",
   "metadata": {},
   "outputs": [
    {
     "data": {
      "text/html": [
       "<div>\n",
       "<style scoped>\n",
       "    .dataframe tbody tr th:only-of-type {\n",
       "        vertical-align: middle;\n",
       "    }\n",
       "\n",
       "    .dataframe tbody tr th {\n",
       "        vertical-align: top;\n",
       "    }\n",
       "\n",
       "    .dataframe thead th {\n",
       "        text-align: right;\n",
       "    }\n",
       "</style>\n",
       "<table border=\"1\" class=\"dataframe\">\n",
       "  <thead>\n",
       "    <tr style=\"text-align: right;\">\n",
       "      <th></th>\n",
       "      <th>age</th>\n",
       "      <th>sex</th>\n",
       "      <th>cp</th>\n",
       "      <th>trestbps</th>\n",
       "      <th>chol</th>\n",
       "      <th>fbs</th>\n",
       "      <th>restecg</th>\n",
       "      <th>thalach</th>\n",
       "      <th>exang</th>\n",
       "      <th>oldpeak</th>\n",
       "      <th>slope</th>\n",
       "      <th>ca</th>\n",
       "      <th>thal</th>\n",
       "      <th>class</th>\n",
       "    </tr>\n",
       "  </thead>\n",
       "  <tbody>\n",
       "    <tr>\n",
       "      <th>0</th>\n",
       "      <td>69</td>\n",
       "      <td>1</td>\n",
       "      <td>0</td>\n",
       "      <td>160</td>\n",
       "      <td>234</td>\n",
       "      <td>1</td>\n",
       "      <td>2</td>\n",
       "      <td>131</td>\n",
       "      <td>0</td>\n",
       "      <td>0.1</td>\n",
       "      <td>1</td>\n",
       "      <td>1</td>\n",
       "      <td>0</td>\n",
       "      <td>0</td>\n",
       "    </tr>\n",
       "    <tr>\n",
       "      <th>1</th>\n",
       "      <td>69</td>\n",
       "      <td>0</td>\n",
       "      <td>0</td>\n",
       "      <td>140</td>\n",
       "      <td>239</td>\n",
       "      <td>0</td>\n",
       "      <td>0</td>\n",
       "      <td>151</td>\n",
       "      <td>0</td>\n",
       "      <td>1.8</td>\n",
       "      <td>0</td>\n",
       "      <td>2</td>\n",
       "      <td>0</td>\n",
       "      <td>0</td>\n",
       "    </tr>\n",
       "    <tr>\n",
       "      <th>2</th>\n",
       "      <td>66</td>\n",
       "      <td>0</td>\n",
       "      <td>0</td>\n",
       "      <td>150</td>\n",
       "      <td>226</td>\n",
       "      <td>0</td>\n",
       "      <td>0</td>\n",
       "      <td>114</td>\n",
       "      <td>0</td>\n",
       "      <td>2.6</td>\n",
       "      <td>2</td>\n",
       "      <td>0</td>\n",
       "      <td>0</td>\n",
       "      <td>0</td>\n",
       "    </tr>\n",
       "    <tr>\n",
       "      <th>3</th>\n",
       "      <td>65</td>\n",
       "      <td>1</td>\n",
       "      <td>0</td>\n",
       "      <td>138</td>\n",
       "      <td>282</td>\n",
       "      <td>1</td>\n",
       "      <td>2</td>\n",
       "      <td>174</td>\n",
       "      <td>0</td>\n",
       "      <td>1.4</td>\n",
       "      <td>1</td>\n",
       "      <td>1</td>\n",
       "      <td>0</td>\n",
       "      <td>1</td>\n",
       "    </tr>\n",
       "    <tr>\n",
       "      <th>4</th>\n",
       "      <td>64</td>\n",
       "      <td>1</td>\n",
       "      <td>0</td>\n",
       "      <td>110</td>\n",
       "      <td>211</td>\n",
       "      <td>0</td>\n",
       "      <td>2</td>\n",
       "      <td>144</td>\n",
       "      <td>1</td>\n",
       "      <td>1.8</td>\n",
       "      <td>1</td>\n",
       "      <td>0</td>\n",
       "      <td>0</td>\n",
       "      <td>0</td>\n",
       "    </tr>\n",
       "  </tbody>\n",
       "</table>\n",
       "</div>"
      ],
      "text/plain": [
       "   age  sex  cp  trestbps  chol  fbs  restecg  thalach  exang  oldpeak  slope  \\\n",
       "0   69    1   0       160   234    1        2      131      0      0.1      1   \n",
       "1   69    0   0       140   239    0        0      151      0      1.8      0   \n",
       "2   66    0   0       150   226    0        0      114      0      2.6      2   \n",
       "3   65    1   0       138   282    1        2      174      0      1.4      1   \n",
       "4   64    1   0       110   211    0        2      144      1      1.8      1   \n",
       "\n",
       "   ca  thal  class  \n",
       "0   1     0      0  \n",
       "1   2     0      0  \n",
       "2   0     0      0  \n",
       "3   1     0      1  \n",
       "4   0     0      0  "
      ]
     },
     "execution_count": 121,
     "metadata": {},
     "output_type": "execute_result"
    }
   ],
   "source": [
    "# tutorial is based on https://stackabuse.com/implementing-svm-and-kernel-svm-with-pythons-scikit-learn/\n",
    "\n",
    "import pandas as pd\n",
    "\n",
    "from sklearn.datasets import load_breast_cancer\n",
    "heartdiseasedata = pd.read_csv(\"./heart_cleveland_upload.csv\")\n",
    "heartdiseasedata.rename(columns={'condition': 'class'}, inplace=True)\n",
    "heartdiseasedata.head()"
   ]
  },
  {
   "cell_type": "code",
   "execution_count": 122,
   "id": "24dc2f1f-5dfc-4c4b-9c88-98b11082e0d9",
   "metadata": {},
   "outputs": [
    {
     "data": {
      "text/plain": [
       "array([0, 1])"
      ]
     },
     "execution_count": 122,
     "metadata": {},
     "output_type": "execute_result"
    }
   ],
   "source": [
    "heartdiseasedata['class'].unique()"
   ]
  },
  {
   "cell_type": "code",
   "execution_count": 123,
   "id": "ffb47255-daf5-4af1-a506-f6e20a161d00",
   "metadata": {},
   "outputs": [
    {
     "data": {
      "text/plain": [
       "class\n",
       "0    160\n",
       "1    137\n",
       "Name: count, dtype: int64"
      ]
     },
     "execution_count": 123,
     "metadata": {},
     "output_type": "execute_result"
    }
   ],
   "source": [
    "heartdiseasedata['class'].value_counts()"
   ]
  },
  {
   "cell_type": "code",
   "execution_count": 124,
   "id": "a6a46325-24d8-40b9-bea6-bda121708f62",
   "metadata": {},
   "outputs": [
    {
     "data": {
      "text/plain": [
       "class\n",
       "0    0.538721\n",
       "1    0.461279\n",
       "Name: proportion, dtype: float64"
      ]
     },
     "execution_count": 124,
     "metadata": {},
     "output_type": "execute_result"
    }
   ],
   "source": [
    "heartdiseasedata['class'].value_counts(normalize=True)"
   ]
  },
  {
   "cell_type": "code",
   "execution_count": 125,
   "id": "8c5f972a-1dc3-45df-9b44-28bef61faad5",
   "metadata": {},
   "outputs": [
    {
     "data": {
      "image/png": "[encoded data removed]",
      "text/plain": [
       "<Figure size 640x480 with 1 Axes>"
      ]
     },
     "metadata": {},
     "output_type": "display_data"
    }
   ],
   "source": [
    "heartdiseasedata['class'].plot.hist();"
   ]
  },
  {
   "cell_type": "code",
   "execution_count": 126,
   "id": "e8f2db3c-d6c6-4fc9-bd92-de46e5a9ca13",
   "metadata": {},
   "outputs": [
    {
     "data": {
      "text/html": [
       "<div>\n",
       "<style scoped>\n",
       "    .dataframe tbody tr th:only-of-type {\n",
       "        vertical-align: middle;\n",
       "    }\n",
       "\n",
       "    .dataframe tbody tr th {\n",
       "        vertical-align: top;\n",
       "    }\n",
       "\n",
       "    .dataframe thead th {\n",
       "        text-align: right;\n",
       "    }\n",
       "</style>\n",
       "<table border=\"1\" class=\"dataframe\">\n",
       "  <thead>\n",
       "    <tr style=\"text-align: right;\">\n",
       "      <th></th>\n",
       "      <th>count</th>\n",
       "      <th>mean</th>\n",
       "      <th>std</th>\n",
       "      <th>min</th>\n",
       "      <th>25%</th>\n",
       "      <th>50%</th>\n",
       "      <th>75%</th>\n",
       "      <th>max</th>\n",
       "    </tr>\n",
       "  </thead>\n",
       "  <tbody>\n",
       "    <tr>\n",
       "      <th>age</th>\n",
       "      <td>297.0</td>\n",
       "      <td>54.542088</td>\n",
       "      <td>9.049736</td>\n",
       "      <td>29.0</td>\n",
       "      <td>48.0</td>\n",
       "      <td>56.0</td>\n",
       "      <td>61.0</td>\n",
       "      <td>77.0</td>\n",
       "    </tr>\n",
       "    <tr>\n",
       "      <th>sex</th>\n",
       "      <td>297.0</td>\n",
       "      <td>0.676768</td>\n",
       "      <td>0.468500</td>\n",
       "      <td>0.0</td>\n",
       "      <td>0.0</td>\n",
       "      <td>1.0</td>\n",
       "      <td>1.0</td>\n",
       "      <td>1.0</td>\n",
       "    </tr>\n",
       "    <tr>\n",
       "      <th>cp</th>\n",
       "      <td>297.0</td>\n",
       "      <td>2.158249</td>\n",
       "      <td>0.964859</td>\n",
       "      <td>0.0</td>\n",
       "      <td>2.0</td>\n",
       "      <td>2.0</td>\n",
       "      <td>3.0</td>\n",
       "      <td>3.0</td>\n",
       "    </tr>\n",
       "    <tr>\n",
       "      <th>trestbps</th>\n",
       "      <td>297.0</td>\n",
       "      <td>131.693603</td>\n",
       "      <td>17.762806</td>\n",
       "      <td>94.0</td>\n",
       "      <td>120.0</td>\n",
       "      <td>130.0</td>\n",
       "      <td>140.0</td>\n",
       "      <td>200.0</td>\n",
       "    </tr>\n",
       "    <tr>\n",
       "      <th>chol</th>\n",
       "      <td>297.0</td>\n",
       "      <td>247.350168</td>\n",
       "      <td>51.997583</td>\n",
       "      <td>126.0</td>\n",
       "      <td>211.0</td>\n",
       "      <td>243.0</td>\n",
       "      <td>276.0</td>\n",
       "      <td>564.0</td>\n",
       "    </tr>\n",
       "    <tr>\n",
       "      <th>fbs</th>\n",
       "      <td>297.0</td>\n",
       "      <td>0.144781</td>\n",
       "      <td>0.352474</td>\n",
       "      <td>0.0</td>\n",
       "      <td>0.0</td>\n",
       "      <td>0.0</td>\n",
       "      <td>0.0</td>\n",
       "      <td>1.0</td>\n",
       "    </tr>\n",
       "    <tr>\n",
       "      <th>restecg</th>\n",
       "      <td>297.0</td>\n",
       "      <td>0.996633</td>\n",
       "      <td>0.994914</td>\n",
       "      <td>0.0</td>\n",
       "      <td>0.0</td>\n",
       "      <td>1.0</td>\n",
       "      <td>2.0</td>\n",
       "      <td>2.0</td>\n",
       "    </tr>\n",
       "    <tr>\n",
       "      <th>thalach</th>\n",
       "      <td>297.0</td>\n",
       "      <td>149.599327</td>\n",
       "      <td>22.941562</td>\n",
       "      <td>71.0</td>\n",
       "      <td>133.0</td>\n",
       "      <td>153.0</td>\n",
       "      <td>166.0</td>\n",
       "      <td>202.0</td>\n",
       "    </tr>\n",
       "    <tr>\n",
       "      <th>exang</th>\n",
       "      <td>297.0</td>\n",
       "      <td>0.326599</td>\n",
       "      <td>0.469761</td>\n",
       "      <td>0.0</td>\n",
       "      <td>0.0</td>\n",
       "      <td>0.0</td>\n",
       "      <td>1.0</td>\n",
       "      <td>1.0</td>\n",
       "    </tr>\n",
       "    <tr>\n",
       "      <th>oldpeak</th>\n",
       "      <td>297.0</td>\n",
       "      <td>1.055556</td>\n",
       "      <td>1.166123</td>\n",
       "      <td>0.0</td>\n",
       "      <td>0.0</td>\n",
       "      <td>0.8</td>\n",
       "      <td>1.6</td>\n",
       "      <td>6.2</td>\n",
       "    </tr>\n",
       "    <tr>\n",
       "      <th>slope</th>\n",
       "      <td>297.0</td>\n",
       "      <td>0.602694</td>\n",
       "      <td>0.618187</td>\n",
       "      <td>0.0</td>\n",
       "      <td>0.0</td>\n",
       "      <td>1.0</td>\n",
       "      <td>1.0</td>\n",
       "      <td>2.0</td>\n",
       "    </tr>\n",
       "    <tr>\n",
       "      <th>ca</th>\n",
       "      <td>297.0</td>\n",
       "      <td>0.676768</td>\n",
       "      <td>0.938965</td>\n",
       "      <td>0.0</td>\n",
       "      <td>0.0</td>\n",
       "      <td>0.0</td>\n",
       "      <td>1.0</td>\n",
       "      <td>3.0</td>\n",
       "    </tr>\n",
       "    <tr>\n",
       "      <th>thal</th>\n",
       "      <td>297.0</td>\n",
       "      <td>0.835017</td>\n",
       "      <td>0.956690</td>\n",
       "      <td>0.0</td>\n",
       "      <td>0.0</td>\n",
       "      <td>0.0</td>\n",
       "      <td>2.0</td>\n",
       "      <td>2.0</td>\n",
       "    </tr>\n",
       "    <tr>\n",
       "      <th>class</th>\n",
       "      <td>297.0</td>\n",
       "      <td>0.461279</td>\n",
       "      <td>0.499340</td>\n",
       "      <td>0.0</td>\n",
       "      <td>0.0</td>\n",
       "      <td>0.0</td>\n",
       "      <td>1.0</td>\n",
       "      <td>1.0</td>\n",
       "    </tr>\n",
       "  </tbody>\n",
       "</table>\n",
       "</div>"
      ],
      "text/plain": [
       "          count        mean        std    min    25%    50%    75%    max\n",
       "age       297.0   54.542088   9.049736   29.0   48.0   56.0   61.0   77.0\n",
       "sex       297.0    0.676768   0.468500    0.0    0.0    1.0    1.0    1.0\n",
       "cp        297.0    2.158249   0.964859    0.0    2.0    2.0    3.0    3.0\n",
       "trestbps  297.0  131.693603  17.762806   94.0  120.0  130.0  140.0  200.0\n",
       "chol      297.0  247.350168  51.997583  126.0  211.0  243.0  276.0  564.0\n",
       "fbs       297.0    0.144781   0.352474    0.0    0.0    0.0    0.0    1.0\n",
       "restecg   297.0    0.996633   0.994914    0.0    0.0    1.0    2.0    2.0\n",
       "thalach   297.0  149.599327  22.941562   71.0  133.0  153.0  166.0  202.0\n",
       "exang     297.0    0.326599   0.469761    0.0    0.0    0.0    1.0    1.0\n",
       "oldpeak   297.0    1.055556   1.166123    0.0    0.0    0.8    1.6    6.2\n",
       "slope     297.0    0.602694   0.618187    0.0    0.0    1.0    1.0    2.0\n",
       "ca        297.0    0.676768   0.938965    0.0    0.0    0.0    1.0    3.0\n",
       "thal      297.0    0.835017   0.956690    0.0    0.0    0.0    2.0    2.0\n",
       "class     297.0    0.461279   0.499340    0.0    0.0    0.0    1.0    1.0"
      ]
     },
     "execution_count": 126,
     "metadata": {},
     "output_type": "execute_result"
    }
   ],
   "source": [
    "heartdiseasedata.describe().T"
   ]
  },
  {
   "cell_type": "code",
   "execution_count": 127,
   "id": "0fa93bc1-a373-4669-ad0d-43c5ac5bdc5b",
   "metadata": {},
   "outputs": [],
   "source": [
    "# predictors vs class\n",
    "y = heartdiseasedata['class']\n",
    "X = heartdiseasedata.drop('class', axis=1) # axis=1 means dropping from the column axis\n",
    "X_min_max = X.copy()\n",
    "\n",
    "for col in X_min_max.columns:\n",
    "    if pd.api.types.is_numeric_dtype(X_min_max[col]):\n",
    "        X_min_max[col] = (X_min_max[col] - X_min_max[col].min()) / (X_min_max[col].max() - X_min_max[col].min())\n",
    "X = X_min_max.copy()\n",
    "X['dummy1'] = 0.0\n",
    "X['dummy2'] = 0.0\n",
    "X['dummy3'] = 0.0"
   ]
  },
  {
   "cell_type": "code",
   "execution_count": 128,
   "id": "bddc52cb-d760-4516-a331-b174666507af",
   "metadata": {},
   "outputs": [],
   "source": [
    "from sklearn.model_selection import train_test_split\n",
    "SEED = 42\n",
    "X_train, X_test, y_train, y_test = train_test_split(X, y, test_size = 0.20, random_state = SEED)"
   ]
  },
  {
   "cell_type": "code",
   "execution_count": 129,
   "id": "6d2f0334-9625-49c3-964b-cbc2780d596e",
   "metadata": {},
   "outputs": [
    {
     "name": "stdout",
     "output_type": "stream",
     "text": [
      "There are 237 samples for training and 60 samples for testing.\n"
     ]
    }
   ],
   "source": [
    "xtrain_samples = X_train.shape[0]\n",
    "xtest_samples = X_test.shape[0]\n",
    "\n",
    "print(f'There are {xtrain_samples} samples for training and {xtest_samples} samples for testing.')"
   ]
  },
  {
   "cell_type": "code",
   "execution_count": 130,
   "id": "cca3f052-5c02-4f28-ac1c-486f507d1035",
   "metadata": {},
   "outputs": [],
   "source": [
    "from sklearn.svm import SVC\n",
    "svc = SVC(kernel='poly',verbose=1,degree=13,gamma=2)"
   ]
  },
  {
   "cell_type": "code",
   "execution_count": 131,
   "id": "8be301f2-a39a-4f9a-9937-ec2ae5cb8763",
   "metadata": {},
   "outputs": [
    {
     "name": "stdout",
     "output_type": "stream",
     "text": [
      "[LibSVM].\n",
      "Warning: using -h 0 may be faster\n",
      "*.*\n",
      "optimization finished, #iter = 609\n",
      "obj = -0.000000, rho = -1.221902\n",
      "nSV = 69, nBSV = 0\n",
      "Total nSV = 69\n"
     ]
    },
    {
     "data": {
      "text/html": [
       "<style>#sk-container-id-6 {color: black;}#sk-container-id-6 pre{padding: 0;}#sk-container-id-6 div.sk-toggleable {background-color: white;}#sk-container-id-6 label.sk-toggleable__label {cursor: pointer;display: block;width: 100%;margin-bottom: 0;padding: 0.3em;box-sizing: border-box;text-align: center;}#sk-container-id-6 label.sk-toggleable__label-arrow:before {content: \"▸\";float: left;margin-right: 0.25em;color: #696969;}#sk-container-id-6 label.sk-toggleable__label-arrow:hover:before {color: black;}#sk-container-id-6 div.sk-estimator:hover label.sk-toggleable__label-arrow:before {color: black;}#sk-container-id-6 div.sk-toggleable__content {max-height: 0;max-width: 0;overflow: hidden;text-align: left;background-color: #f0f8ff;}#sk-container-id-6 div.sk-toggleable__content pre {margin: 0.2em;color: black;border-radius: 0.25em;background-color: #f0f8ff;}#sk-container-id-6 input.sk-toggleable__control:checked~div.sk-toggleable__content {max-height: 200px;max-width: 100%;overflow: auto;}#sk-container-id-6 input.sk-toggleable__control:checked~label.sk-toggleable__label-arrow:before {content: \"▾\";}#sk-container-id-6 div.sk-estimator input.sk-toggleable__control:checked~label.sk-toggleable__label {background-color: #d4ebff;}#sk-container-id-6 div.sk-label input.sk-toggleable__control:checked~label.sk-toggleable__label {background-color: #d4ebff;}#sk-container-id-6 input.sk-hidden--visually {border: 0;clip: rect(1px 1px 1px 1px);clip: rect(1px, 1px, 1px, 1px);height: 1px;margin: -1px;overflow: hidden;padding: 0;position: absolute;width: 1px;}#sk-container-id-6 div.sk-estimator {font-family: monospace;background-color: #f0f8ff;border: 1px dotted black;border-radius: 0.25em;box-sizing: border-box;margin-bottom: 0.5em;}#sk-container-id-6 div.sk-estimator:hover {background-color: #d4ebff;}#sk-container-id-6 div.sk-parallel-item::after {content: \"\";width: 100%;border-bottom: 1px solid gray;flex-grow: 1;}#sk-container-id-6 div.sk-label:hover label.sk-toggleable__label {background-color: #d4ebff;}#sk-container-id-6 div.sk-serial::before {content: \"\";position: absolute;border-left: 1px solid gray;box-sizing: border-box;top: 0;bottom: 0;left: 50%;z-index: 0;}#sk-container-id-6 div.sk-serial {display: flex;flex-direction: column;align-items: center;background-color: white;padding-right: 0.2em;padding-left: 0.2em;position: relative;}#sk-container-id-6 div.sk-item {position: relative;z-index: 1;}#sk-container-id-6 div.sk-parallel {display: flex;align-items: stretch;justify-content: center;background-color: white;position: relative;}#sk-container-id-6 div.sk-item::before, #sk-container-id-6 div.sk-parallel-item::before {content: \"\";position: absolute;border-left: 1px solid gray;box-sizing: border-box;top: 0;bottom: 0;left: 50%;z-index: -1;}#sk-container-id-6 div.sk-parallel-item {display: flex;flex-direction: column;z-index: 1;position: relative;background-color: white;}#sk-container-id-6 div.sk-parallel-item:first-child::after {align-self: flex-end;width: 50%;}#sk-container-id-6 div.sk-parallel-item:last-child::after {align-self: flex-start;width: 50%;}#sk-container-id-6 div.sk-parallel-item:only-child::after {width: 0;}#sk-container-id-6 div.sk-dashed-wrapped {border: 1px dashed gray;margin: 0 0.4em 0.5em 0.4em;box-sizing: border-box;padding-bottom: 0.4em;background-color: white;}#sk-container-id-6 div.sk-label label {font-family: monospace;font-weight: bold;display: inline-block;line-height: 1.2em;}#sk-container-id-6 div.sk-label-container {text-align: center;}#sk-container-id-6 div.sk-container {/* jupyter's `normalize.less` sets `[hidden] { display: none; }` but bootstrap.min.css set `[hidden] { display: none !important; }` so we also need the `!important` here to be able to override the default hidden behavior on the sphinx rendered scikit-learn.org. See: https://github.com/scikit-learn/scikit-learn/issues/21755 */display: inline-block !important;position: relative;}#sk-container-id-6 div.sk-text-repr-fallback {display: none;}</style><div id=\"sk-container-id-6\" class=\"sk-top-container\"><div class=\"sk-text-repr-fallback\"><pre>SVC(degree=13, gamma=2, kernel=&#x27;poly&#x27;, verbose=1)</pre><b>In a Jupyter environment, please rerun this cell to show the HTML representation or trust the notebook. <br />On GitHub, the HTML representation is unable to render, please try loading this page with nbviewer.org.</b></div><div class=\"sk-container\" hidden><div class=\"sk-item\"><div class=\"sk-estimator sk-toggleable\"><input class=\"sk-toggleable__control sk-hidden--visually\" id=\"sk-estimator-id-6\" type=\"checkbox\" checked><label for=\"sk-estimator-id-6\" class=\"sk-toggleable__label sk-toggleable__label-arrow\">SVC</label><div class=\"sk-toggleable__content\"><pre>SVC(degree=13, gamma=2, kernel=&#x27;poly&#x27;, verbose=1)</pre></div></div></div></div></div>"
      ],
      "text/plain": [
       "SVC(degree=13, gamma=2, kernel='poly', verbose=1)"
      ]
     },
     "execution_count": 131,
     "metadata": {},
     "output_type": "execute_result"
    }
   ],
   "source": [
    "svc.fit(X_train, y_train)"
   ]
  },
  {
   "cell_type": "code",
   "execution_count": 132,
   "id": "cf1b973b-7e59-4de3-bc8e-8f9d660a99c4",
   "metadata": {},
   "outputs": [],
   "source": [
    "y_pred = svc.predict(X_test)"
   ]
  },
  {
   "cell_type": "code",
   "execution_count": 133,
   "id": "10a43205-4e63-4d16-9acb-6d1aa3e4c2e8",
   "metadata": {},
   "outputs": [
    {
     "name": "stdout",
     "output_type": "stream",
     "text": [
      "              precision    recall  f1-score   support\n",
      "\n",
      "           0       0.72      0.72      0.72        32\n",
      "           1       0.68      0.68      0.68        28\n",
      "\n",
      "    accuracy                           0.70        60\n",
      "   macro avg       0.70      0.70      0.70        60\n",
      "weighted avg       0.70      0.70      0.70        60\n",
      "\n"
     ]
    },
    {
     "data": {
      "image/png": "[encoded data removed]",
      "text/plain": [
       "<Figure size 640x480 with 2 Axes>"
      ]
     },
     "metadata": {},
     "output_type": "display_data"
    }
   ],
   "source": [
    "import seaborn as sns\n",
    "from sklearn.metrics import classification_report, confusion_matrix\n",
    "\n",
    "cm = confusion_matrix(y_test,y_pred)\n",
    "sns.heatmap(cm, annot=True, fmt='d').set_title('Confusion matrix of linear SVM') # fmt='d' formats the numbers as digits, which means integers\n",
    "\n",
    "print(classification_report(y_test,y_pred))"
   ]
  },
  {
   "cell_type": "code",
   "execution_count": 134,
   "id": "a85baa40-45b2-474a-9ac6-09c3bd58e1ee",
   "metadata": {},
   "outputs": [
    {
     "name": "stdout",
     "output_type": "stream",
     "text": [
      "              precision    recall  f1-score   support\n",
      "\n",
      "           0       1.00      1.00      1.00       128\n",
      "           1       1.00      1.00      1.00       109\n",
      "\n",
      "    accuracy                           1.00       237\n",
      "   macro avg       1.00      1.00      1.00       237\n",
      "weighted avg       1.00      1.00      1.00       237\n",
      "\n"
     ]
    },
    {
     "data": {
      "image/png": "[encoded data removed]",
      "text/plain": [
       "<Figure size 640x480 with 2 Axes>"
      ]
     },
     "metadata": {},
     "output_type": "display_data"
    }
   ],
   "source": [
    "y_pred_train = svc.predict(X_train)\n",
    "\n",
    "cm_train = confusion_matrix(y_train,y_pred_train)\n",
    "sns.heatmap(cm_train, annot=True, fmt='d').set_title('Confusion matrix of linear SVM with train data')\n",
    "\n",
    "print(classification_report(y_train,y_pred_train))"
   ]
  },
  {
   "cell_type": "code",
   "execution_count": 135,
   "id": "7496924c-bf20-4049-8d7c-18b2345cac9d",
   "metadata": {},
   "outputs": [
    {
     "name": "stdout",
     "output_type": "stream",
     "text": [
      "[39 30]\n"
     ]
    }
   ],
   "source": [
    "svc.get_params()\n",
    "print(svc.n_support_)"
   ]
  },
  {
   "cell_type": "code",
   "execution_count": 136,
   "id": "da7c4507-99a1-4a66-baa9-9dd749eefcb1",
   "metadata": {},
   "outputs": [],
   "source": [
    "# get the actual output of SVM\n",
    "decision_function = svc.decision_function(X_test)"
   ]
  },
  {
   "cell_type": "code",
   "execution_count": 137,
   "id": "98aaaae9-3e99-4bea-ad22-f8cfd4e692e0",
   "metadata": {},
   "outputs": [
    {
     "name": "stdout",
     "output_type": "stream",
     "text": [
      "[ 3.92200870e+01 -3.86061695e+00 -1.16998992e+00 -1.22465269e+00\n",
      "  7.71542907e+00 -1.37911190e+00  2.75320202e+01  8.11771435e+00\n",
      "  3.33027645e+01 -4.50625803e+00 -2.42278301e+01  1.20208110e+01\n",
      " -2.69185132e+00 -1.22307733e+00 -1.22311847e+00  1.09379361e+01\n",
      "  1.26509805e+00 -1.27254976e+00  1.05121445e+01 -4.10556393e-03\n",
      "  5.15229384e+00  3.62546587e+00 -2.56883822e+00  1.41003538e-02\n",
      "  1.52253109e+00  1.77365958e+00 -2.81322344e+00  1.35261744e+02\n",
      " -7.76333651e-01 -5.16389170e-01  1.40706965e+00  8.65960685e+00\n",
      " -1.19119144e+00 -1.28975698e+00  1.50853712e+00  6.02914448e+01\n",
      "  1.84508209e+00 -1.22624389e+00  3.15594027e+01 -9.38189862e-01\n",
      " -1.32689289e+00  5.00194543e+00 -5.04234692e+00 -2.09981338e+00\n",
      " -5.77424877e-01  7.66746141e+00 -6.89336488e+00 -2.87576068e+00\n",
      " -1.07501389e+00 -1.27502359e+00 -1.86266025e+00  4.51866197e+00\n",
      " -4.68680395e-01 -3.53223282e+00  2.49497240e+01 -2.54780453e+01\n",
      "  2.14741587e+00  1.77811052e+00 -1.69136023e+00  1.30550157e-01]\n"
     ]
    }
   ],
   "source": [
    "print(decision_function)"
   ]
  },
  {
   "cell_type": "code",
   "execution_count": 138,
   "id": "f639f38f-7dad-4a45-86eb-1f16aa5ee2eb",
   "metadata": {},
   "outputs": [
    {
     "name": "stdout",
     "output_type": "stream",
     "text": [
      "svc.gamma:  2\n",
      "svc.degree:  13\n"
     ]
    }
   ],
   "source": [
    "import numpy as np\n",
    "print(\"svc.gamma: \", svc.gamma)\n",
    "print(\"svc.degree: \", svc.degree)\n",
    "\n",
    "sv=open(\"../data-kernel-model/support_vectors_poly.txt\",\"w\")\n",
    "dual_coeff=open(\"../data-kernel-model/dual_coeff_poly.txt\",\"w\")\n",
    "intercept=open(\"../data-kernel-model/intercept_poly.txt\",\"w\")\n",
    "xtestSample=\"../data-kernel-model/xtest_poly.txt\"\n",
    "ytestSample=\"../data-kernel-model/ytest_poly.txt\"\n",
    "ytestClassificationScore=\"../data-kernel-model/yclassificationscore.txt\"\n",
    "\n",
    "np.savetxt(sv,svc.support_vectors_)\n",
    "    \n",
    "np.savetxt(dual_coeff,svc.dual_coef_,delimiter=' ')\n",
    "np.savetxt(intercept,svc.intercept_,delimiter=' ')\n",
    "\n",
    "with open(xtestSample, \"w\") as f1:\n",
    "    for item in X_test.head(1).iloc[0].values:\n",
    "        f1.write(str(item) + \" \")\n",
    "        \n",
    "np.savetxt(ytestSample,y_test.head(1), delimiter=' ')\n",
    "with open(ytestClassificationScore, \"w\") as f2:\n",
    "    f2.write(str(decision_function[0]))\n",
    "    \n",
    "sv.close()\n",
    "dual_coeff.close()\n",
    "intercept.close()\n",
    "f1.close()\n",
    "f2.close()"
   ]
  },
  {
   "cell_type": "code",
   "execution_count": null,
   "id": "b973e4f0-0e4f-424a-a4d9-a56905e6d260",
   "metadata": {},
   "outputs": [],
   "source": []
  },
  {
   "cell_type": "code",
   "execution_count": null,
   "metadata": {},
   "outputs": [],
   "source": []
  }
 ],
 "metadata": {
  "kernelspec": {
   "display_name": "Python 3 (ipykernel)",
   "language": "python",
   "name": "python3"
  },
  "language_info": {
   "codemirror_mode": {
    "name": "ipython",
    "version": 3
   },
   "file_extension": ".py",
   "mimetype": "text/x-python",
   "name": "python",
   "nbconvert_exporter": "python",
   "pygments_lexer": "ipython3",
   "version": "3.10.12"
  }
 },
 "nbformat": 4,
 "nbformat_minor": 5
}
