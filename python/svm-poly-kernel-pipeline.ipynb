{
 "cells": [
  {
   "cell_type": "code",
   "execution_count": 1,
   "id": "2c3cca64-5957-4a2a-abd0-688ef35b61ee",
   "metadata": {},
   "outputs": [
    {
     "data": {
      "text/html": [
       "<div>\n",
       "<style scoped>\n",
       "    .dataframe tbody tr th:only-of-type {\n",
       "        vertical-align: middle;\n",
       "    }\n",
       "\n",
       "    .dataframe tbody tr th {\n",
       "        vertical-align: top;\n",
       "    }\n",
       "\n",
       "    .dataframe thead th {\n",
       "        text-align: right;\n",
       "    }\n",
       "</style>\n",
       "<table border=\"1\" class=\"dataframe\">\n",
       "  <thead>\n",
       "    <tr style=\"text-align: right;\">\n",
       "      <th></th>\n",
       "      <th>variance</th>\n",
       "      <th>skewness</th>\n",
       "      <th>curtosis</th>\n",
       "      <th>entropy</th>\n",
       "      <th>class</th>\n",
       "    </tr>\n",
       "  </thead>\n",
       "  <tbody>\n",
       "    <tr>\n",
       "      <th>0</th>\n",
       "      <td>3.62160</td>\n",
       "      <td>8.6661</td>\n",
       "      <td>-2.8073</td>\n",
       "      <td>-0.44699</td>\n",
       "      <td>0</td>\n",
       "    </tr>\n",
       "    <tr>\n",
       "      <th>1</th>\n",
       "      <td>4.54590</td>\n",
       "      <td>8.1674</td>\n",
       "      <td>-2.4586</td>\n",
       "      <td>-1.46210</td>\n",
       "      <td>0</td>\n",
       "    </tr>\n",
       "    <tr>\n",
       "      <th>2</th>\n",
       "      <td>3.86600</td>\n",
       "      <td>-2.6383</td>\n",
       "      <td>1.9242</td>\n",
       "      <td>0.10645</td>\n",
       "      <td>0</td>\n",
       "    </tr>\n",
       "    <tr>\n",
       "      <th>3</th>\n",
       "      <td>3.45660</td>\n",
       "      <td>9.5228</td>\n",
       "      <td>-4.0112</td>\n",
       "      <td>-3.59440</td>\n",
       "      <td>0</td>\n",
       "    </tr>\n",
       "    <tr>\n",
       "      <th>4</th>\n",
       "      <td>0.32924</td>\n",
       "      <td>-4.4552</td>\n",
       "      <td>4.5718</td>\n",
       "      <td>-0.98880</td>\n",
       "      <td>0</td>\n",
       "    </tr>\n",
       "  </tbody>\n",
       "</table>\n",
       "</div>"
      ],
      "text/plain": [
       "   variance  skewness  curtosis  entropy  class\n",
       "0   3.62160    8.6661   -2.8073 -0.44699      0\n",
       "1   4.54590    8.1674   -2.4586 -1.46210      0\n",
       "2   3.86600   -2.6383    1.9242  0.10645      0\n",
       "3   3.45660    9.5228   -4.0112 -3.59440      0\n",
       "4   0.32924   -4.4552    4.5718 -0.98880      0"
      ]
     },
     "execution_count": 1,
     "metadata": {},
     "output_type": "execute_result"
    }
   ],
   "source": [
    "# tutorial is based on https://stackabuse.com/implementing-svm-and-kernel-svm-with-pythons-scikit-learn/\n",
    "\n",
    "import pandas as pd\n",
    "\n",
    "data_link = \"https://archive.ics.uci.edu/ml/machine-learning-databases/00267/data_banknote_authentication.txt\"\n",
    "col_names = [\"variance\", \"skewness\", \"curtosis\", \"entropy\", \"class\"]\n",
    "\n",
    "bankdata = pd.read_csv(data_link, names=col_names, sep=\",\", header=None)\n",
    "bankdata.head()"
   ]
  },
  {
   "cell_type": "code",
   "execution_count": 2,
   "id": "24dc2f1f-5dfc-4c4b-9c88-98b11082e0d9",
   "metadata": {},
   "outputs": [
    {
     "data": {
      "text/plain": [
       "array([0, 1])"
      ]
     },
     "execution_count": 2,
     "metadata": {},
     "output_type": "execute_result"
    }
   ],
   "source": [
    "bankdata['class'].unique()"
   ]
  },
  {
   "cell_type": "code",
   "execution_count": 3,
   "id": "ffb47255-daf5-4af1-a506-f6e20a161d00",
   "metadata": {},
   "outputs": [
    {
     "data": {
      "text/plain": [
       "class\n",
       "0    762\n",
       "1    610\n",
       "Name: count, dtype: int64"
      ]
     },
     "execution_count": 3,
     "metadata": {},
     "output_type": "execute_result"
    }
   ],
   "source": [
    "bankdata['class'].value_counts()"
   ]
  },
  {
   "cell_type": "code",
   "execution_count": 4,
   "id": "a6a46325-24d8-40b9-bea6-bda121708f62",
   "metadata": {},
   "outputs": [
    {
     "data": {
      "text/plain": [
       "class\n",
       "0    0.555394\n",
       "1    0.444606\n",
       "Name: proportion, dtype: float64"
      ]
     },
     "execution_count": 4,
     "metadata": {},
     "output_type": "execute_result"
    }
   ],
   "source": [
    "bankdata['class'].value_counts(normalize=True)"
   ]
  },
  {
   "cell_type": "code",
   "execution_count": 5,
   "id": "8c5f972a-1dc3-45df-9b44-28bef61faad5",
   "metadata": {},
   "outputs": [
    {
     "data": {
      "image/png": "[encoded data removed]",
      "text/plain": [
       "<Figure size 640x480 with 1 Axes>"
      ]
     },
     "metadata": {},
     "output_type": "display_data"
    }
   ],
   "source": [
    "bankdata['class'].plot.hist();"
   ]
  },
  {
   "cell_type": "code",
   "execution_count": 6,
   "id": "e8f2db3c-d6c6-4fc9-bd92-de46e5a9ca13",
   "metadata": {},
   "outputs": [
    {
     "data": {
      "text/html": [
       "<div>\n",
       "<style scoped>\n",
       "    .dataframe tbody tr th:only-of-type {\n",
       "        vertical-align: middle;\n",
       "    }\n",
       "\n",
       "    .dataframe tbody tr th {\n",
       "        vertical-align: top;\n",
       "    }\n",
       "\n",
       "    .dataframe thead th {\n",
       "        text-align: right;\n",
       "    }\n",
       "</style>\n",
       "<table border=\"1\" class=\"dataframe\">\n",
       "  <thead>\n",
       "    <tr style=\"text-align: right;\">\n",
       "      <th></th>\n",
       "      <th>count</th>\n",
       "      <th>mean</th>\n",
       "      <th>std</th>\n",
       "      <th>min</th>\n",
       "      <th>25%</th>\n",
       "      <th>50%</th>\n",
       "      <th>75%</th>\n",
       "      <th>max</th>\n",
       "    </tr>\n",
       "  </thead>\n",
       "  <tbody>\n",
       "    <tr>\n",
       "      <th>variance</th>\n",
       "      <td>1372.0</td>\n",
       "      <td>0.433735</td>\n",
       "      <td>2.842763</td>\n",
       "      <td>-7.0421</td>\n",
       "      <td>-1.773000</td>\n",
       "      <td>0.49618</td>\n",
       "      <td>2.821475</td>\n",
       "      <td>6.8248</td>\n",
       "    </tr>\n",
       "    <tr>\n",
       "      <th>skewness</th>\n",
       "      <td>1372.0</td>\n",
       "      <td>1.922353</td>\n",
       "      <td>5.869047</td>\n",
       "      <td>-13.7731</td>\n",
       "      <td>-1.708200</td>\n",
       "      <td>2.31965</td>\n",
       "      <td>6.814625</td>\n",
       "      <td>12.9516</td>\n",
       "    </tr>\n",
       "    <tr>\n",
       "      <th>curtosis</th>\n",
       "      <td>1372.0</td>\n",
       "      <td>1.397627</td>\n",
       "      <td>4.310030</td>\n",
       "      <td>-5.2861</td>\n",
       "      <td>-1.574975</td>\n",
       "      <td>0.61663</td>\n",
       "      <td>3.179250</td>\n",
       "      <td>17.9274</td>\n",
       "    </tr>\n",
       "    <tr>\n",
       "      <th>entropy</th>\n",
       "      <td>1372.0</td>\n",
       "      <td>-1.191657</td>\n",
       "      <td>2.101013</td>\n",
       "      <td>-8.5482</td>\n",
       "      <td>-2.413450</td>\n",
       "      <td>-0.58665</td>\n",
       "      <td>0.394810</td>\n",
       "      <td>2.4495</td>\n",
       "    </tr>\n",
       "    <tr>\n",
       "      <th>class</th>\n",
       "      <td>1372.0</td>\n",
       "      <td>0.444606</td>\n",
       "      <td>0.497103</td>\n",
       "      <td>0.0000</td>\n",
       "      <td>0.000000</td>\n",
       "      <td>0.00000</td>\n",
       "      <td>1.000000</td>\n",
       "      <td>1.0000</td>\n",
       "    </tr>\n",
       "  </tbody>\n",
       "</table>\n",
       "</div>"
      ],
      "text/plain": [
       "           count      mean       std      min       25%      50%       75%  \\\n",
       "variance  1372.0  0.433735  2.842763  -7.0421 -1.773000  0.49618  2.821475   \n",
       "skewness  1372.0  1.922353  5.869047 -13.7731 -1.708200  2.31965  6.814625   \n",
       "curtosis  1372.0  1.397627  4.310030  -5.2861 -1.574975  0.61663  3.179250   \n",
       "entropy   1372.0 -1.191657  2.101013  -8.5482 -2.413450 -0.58665  0.394810   \n",
       "class     1372.0  0.444606  0.497103   0.0000  0.000000  0.00000  1.000000   \n",
       "\n",
       "              max  \n",
       "variance   6.8248  \n",
       "skewness  12.9516  \n",
       "curtosis  17.9274  \n",
       "entropy    2.4495  \n",
       "class      1.0000  "
      ]
     },
     "execution_count": 6,
     "metadata": {},
     "output_type": "execute_result"
    }
   ],
   "source": [
    "bankdata.describe().T"
   ]
  },
  {
   "cell_type": "code",
   "execution_count": 7,
   "id": "0fa93bc1-a373-4669-ad0d-43c5ac5bdc5b",
   "metadata": {},
   "outputs": [],
   "source": [
    "# predictors vs class\n",
    "y = bankdata['class']\n",
    "X = bankdata.drop('class', axis=1) # axis=1 means dropping from the column axis"
   ]
  },
  {
   "cell_type": "code",
   "execution_count": 8,
   "id": "bddc52cb-d760-4516-a331-b174666507af",
   "metadata": {},
   "outputs": [],
   "source": [
    "from sklearn.model_selection import train_test_split\n",
    "SEED = 42\n",
    "X_train, X_test, y_train, y_test = train_test_split(X, y, test_size = 0.20, random_state = SEED)"
   ]
  },
  {
   "cell_type": "code",
   "execution_count": 9,
   "id": "6d2f0334-9625-49c3-964b-cbc2780d596e",
   "metadata": {},
   "outputs": [
    {
     "name": "stdout",
     "output_type": "stream",
     "text": [
      "There are 1097 samples for training and 275 samples for testing.\n"
     ]
    }
   ],
   "source": [
    "xtrain_samples = X_train.shape[0]\n",
    "xtest_samples = X_test.shape[0]\n",
    "\n",
    "print(f'There are {xtrain_samples} samples for training and {xtest_samples} samples for testing.')"
   ]
  },
  {
   "cell_type": "code",
   "execution_count": 10,
   "id": "cca3f052-5c02-4f28-ac1c-486f507d1035",
   "metadata": {},
   "outputs": [],
   "source": [
    "from sklearn.svm import SVC\n",
    "svc = SVC(kernel='poly',verbose=1,degree=3,gamma=2)"
   ]
  },
  {
   "cell_type": "code",
   "execution_count": 11,
   "id": "8be301f2-a39a-4f9a-9937-ec2ae5cb8763",
   "metadata": {},
   "outputs": [
    {
     "name": "stdout",
     "output_type": "stream",
     "text": [
      "[LibSVM]...............................................................................*.....................................................................................................................*..........................................................*\n",
      "optimization finished, #iter = 254276\n",
      "obj = -0.102876, rho = 1.086351\n",
      "nSV = 17, nBSV = 0\n",
      "Total nSV = 17\n"
     ]
    },
    {
     "data": {
      "text/html": [
       "<style>#sk-container-id-1 {color: black;}#sk-container-id-1 pre{padding: 0;}#sk-container-id-1 div.sk-toggleable {background-color: white;}#sk-container-id-1 label.sk-toggleable__label {cursor: pointer;display: block;width: 100%;margin-bottom: 0;padding: 0.3em;box-sizing: border-box;text-align: center;}#sk-container-id-1 label.sk-toggleable__label-arrow:before {content: \"▸\";float: left;margin-right: 0.25em;color: #696969;}#sk-container-id-1 label.sk-toggleable__label-arrow:hover:before {color: black;}#sk-container-id-1 div.sk-estimator:hover label.sk-toggleable__label-arrow:before {color: black;}#sk-container-id-1 div.sk-toggleable__content {max-height: 0;max-width: 0;overflow: hidden;text-align: left;background-color: #f0f8ff;}#sk-container-id-1 div.sk-toggleable__content pre {margin: 0.2em;color: black;border-radius: 0.25em;background-color: #f0f8ff;}#sk-container-id-1 input.sk-toggleable__control:checked~div.sk-toggleable__content {max-height: 200px;max-width: 100%;overflow: auto;}#sk-container-id-1 input.sk-toggleable__control:checked~label.sk-toggleable__label-arrow:before {content: \"▾\";}#sk-container-id-1 div.sk-estimator input.sk-toggleable__control:checked~label.sk-toggleable__label {background-color: #d4ebff;}#sk-container-id-1 div.sk-label input.sk-toggleable__control:checked~label.sk-toggleable__label {background-color: #d4ebff;}#sk-container-id-1 input.sk-hidden--visually {border: 0;clip: rect(1px 1px 1px 1px);clip: rect(1px, 1px, 1px, 1px);height: 1px;margin: -1px;overflow: hidden;padding: 0;position: absolute;width: 1px;}#sk-container-id-1 div.sk-estimator {font-family: monospace;background-color: #f0f8ff;border: 1px dotted black;border-radius: 0.25em;box-sizing: border-box;margin-bottom: 0.5em;}#sk-container-id-1 div.sk-estimator:hover {background-color: #d4ebff;}#sk-container-id-1 div.sk-parallel-item::after {content: \"\";width: 100%;border-bottom: 1px solid gray;flex-grow: 1;}#sk-container-id-1 div.sk-label:hover label.sk-toggleable__label {background-color: #d4ebff;}#sk-container-id-1 div.sk-serial::before {content: \"\";position: absolute;border-left: 1px solid gray;box-sizing: border-box;top: 0;bottom: 0;left: 50%;z-index: 0;}#sk-container-id-1 div.sk-serial {display: flex;flex-direction: column;align-items: center;background-color: white;padding-right: 0.2em;padding-left: 0.2em;position: relative;}#sk-container-id-1 div.sk-item {position: relative;z-index: 1;}#sk-container-id-1 div.sk-parallel {display: flex;align-items: stretch;justify-content: center;background-color: white;position: relative;}#sk-container-id-1 div.sk-item::before, #sk-container-id-1 div.sk-parallel-item::before {content: \"\";position: absolute;border-left: 1px solid gray;box-sizing: border-box;top: 0;bottom: 0;left: 50%;z-index: -1;}#sk-container-id-1 div.sk-parallel-item {display: flex;flex-direction: column;z-index: 1;position: relative;background-color: white;}#sk-container-id-1 div.sk-parallel-item:first-child::after {align-self: flex-end;width: 50%;}#sk-container-id-1 div.sk-parallel-item:last-child::after {align-self: flex-start;width: 50%;}#sk-container-id-1 div.sk-parallel-item:only-child::after {width: 0;}#sk-container-id-1 div.sk-dashed-wrapped {border: 1px dashed gray;margin: 0 0.4em 0.5em 0.4em;box-sizing: border-box;padding-bottom: 0.4em;background-color: white;}#sk-container-id-1 div.sk-label label {font-family: monospace;font-weight: bold;display: inline-block;line-height: 1.2em;}#sk-container-id-1 div.sk-label-container {text-align: center;}#sk-container-id-1 div.sk-container {/* jupyter's `normalize.less` sets `[hidden] { display: none; }` but bootstrap.min.css set `[hidden] { display: none !important; }` so we also need the `!important` here to be able to override the default hidden behavior on the sphinx rendered scikit-learn.org. See: https://github.com/scikit-learn/scikit-learn/issues/21755 */display: inline-block !important;position: relative;}#sk-container-id-1 div.sk-text-repr-fallback {display: none;}</style><div id=\"sk-container-id-1\" class=\"sk-top-container\"><div class=\"sk-text-repr-fallback\"><pre>SVC(gamma=2, kernel=&#x27;poly&#x27;, verbose=1)</pre><b>In a Jupyter environment, please rerun this cell to show the HTML representation or trust the notebook. <br />On GitHub, the HTML representation is unable to render, please try loading this page with nbviewer.org.</b></div><div class=\"sk-container\" hidden><div class=\"sk-item\"><div class=\"sk-estimator sk-toggleable\"><input class=\"sk-toggleable__control sk-hidden--visually\" id=\"sk-estimator-id-1\" type=\"checkbox\" checked><label for=\"sk-estimator-id-1\" class=\"sk-toggleable__label sk-toggleable__label-arrow\">SVC</label><div class=\"sk-toggleable__content\"><pre>SVC(gamma=2, kernel=&#x27;poly&#x27;, verbose=1)</pre></div></div></div></div></div>"
      ],
      "text/plain": [
       "SVC(gamma=2, kernel='poly', verbose=1)"
      ]
     },
     "execution_count": 11,
     "metadata": {},
     "output_type": "execute_result"
    }
   ],
   "source": [
    "svc.fit(X_train, y_train)"
   ]
  },
  {
   "cell_type": "code",
   "execution_count": 12,
   "id": "cf1b973b-7e59-4de3-bc8e-8f9d660a99c4",
   "metadata": {},
   "outputs": [],
   "source": [
    "y_pred = svc.predict(X_test)"
   ]
  },
  {
   "cell_type": "code",
   "execution_count": 13,
   "id": "10a43205-4e63-4d16-9acb-6d1aa3e4c2e8",
   "metadata": {},
   "outputs": [
    {
     "name": "stdout",
     "output_type": "stream",
     "text": [
      "              precision    recall  f1-score   support\n",
      "\n",
      "           0       0.99      1.00      0.99       148\n",
      "           1       1.00      0.98      0.99       127\n",
      "\n",
      "    accuracy                           0.99       275\n",
      "   macro avg       0.99      0.99      0.99       275\n",
      "weighted avg       0.99      0.99      0.99       275\n",
      "\n"
     ]
    },
    {
     "data": {
      "image/png": "[encoded data removed]",
      "text/plain": [
       "<Figure size 640x480 with 2 Axes>"
      ]
     },
     "metadata": {},
     "output_type": "display_data"
    }
   ],
   "source": [
    "import seaborn as sns\n",
    "from sklearn.metrics import classification_report, confusion_matrix\n",
    "\n",
    "cm = confusion_matrix(y_test,y_pred)\n",
    "sns.heatmap(cm, annot=True, fmt='d').set_title('Confusion matrix of linear SVM') # fmt='d' formats the numbers as digits, which means integers\n",
    "\n",
    "print(classification_report(y_test,y_pred))"
   ]
  },
  {
   "cell_type": "code",
   "execution_count": 14,
   "id": "a85baa40-45b2-474a-9ac6-09c3bd58e1ee",
   "metadata": {},
   "outputs": [
    {
     "name": "stdout",
     "output_type": "stream",
     "text": [
      "              precision    recall  f1-score   support\n",
      "\n",
      "           0       1.00      1.00      1.00       614\n",
      "           1       1.00      1.00      1.00       483\n",
      "\n",
      "    accuracy                           1.00      1097\n",
      "   macro avg       1.00      1.00      1.00      1097\n",
      "weighted avg       1.00      1.00      1.00      1097\n",
      "\n"
     ]
    },
    {
     "data": {
      "image/png": "[encoded data removed]",
      "text/plain": [
       "<Figure size 640x480 with 2 Axes>"
      ]
     },
     "metadata": {},
     "output_type": "display_data"
    }
   ],
   "source": [
    "y_pred_train = svc.predict(X_train)\n",
    "\n",
    "cm_train = confusion_matrix(y_train,y_pred_train)\n",
    "sns.heatmap(cm_train, annot=True, fmt='d').set_title('Confusion matrix of linear SVM with train data')\n",
    "\n",
    "print(classification_report(y_train,y_pred_train))"
   ]
  },
  {
   "cell_type": "code",
   "execution_count": 15,
   "id": "7496924c-bf20-4049-8d7c-18b2345cac9d",
   "metadata": {},
   "outputs": [
    {
     "name": "stdout",
     "output_type": "stream",
     "text": [
      "[ 4 13]\n"
     ]
    }
   ],
   "source": [
    "svc.get_params()\n",
    "print(svc.n_support_)"
   ]
  },
  {
   "cell_type": "code",
   "execution_count": 16,
   "id": "da7c4507-99a1-4a66-baa9-9dd749eefcb1",
   "metadata": {},
   "outputs": [],
   "source": [
    "# get the actual output of SVM\n",
    "decision_function = svc.decision_function(X_test)"
   ]
  },
  {
   "cell_type": "code",
   "execution_count": 17,
   "id": "98aaaae9-3e99-4bea-ad22-f8cfd4e692e0",
   "metadata": {},
   "outputs": [
    {
     "name": "stdout",
     "output_type": "stream",
     "text": [
      "[-1.54781723e+02 -4.19762402e+01 -5.93741301e+01 -1.09005014e+03\n",
      " -1.50388435e+02 -1.75316532e+01 -2.09763532e+02 -2.24014827e+01\n",
      " -5.90354394e+00 -1.85061295e+02  1.09541753e+00  1.29596473e+00\n",
      " -9.30630639e+01  1.61984828e+00 -1.52696966e+02  1.59742355e+00\n",
      "  1.00991987e+00  1.03405124e+00  2.05021507e+01  1.14416773e+00\n",
      " -2.06642371e+02 -6.69770163e+01  1.06682185e+00 -1.59320967e+02\n",
      "  2.82351539e+01 -6.57858899e+01 -2.06322885e+02  2.14726196e+00\n",
      " -3.52255650e+02 -1.82868304e+02  1.80628145e+00 -7.47881233e+01\n",
      " -2.82830744e+01  9.23837811e+01  2.33045439e+01 -1.73167012e+02\n",
      "  1.16752844e+00  2.91800492e+00  1.25723750e+00 -1.02031845e+02\n",
      " -1.18625685e+02  4.34399059e+00  1.06836091e+00 -2.00133886e+02\n",
      "  2.92910816e+00  4.43565127e+00  2.69238677e+00 -1.98422654e+01\n",
      " -3.30062929e+01  1.94178776e+00 -1.52479937e+01 -2.28875237e+01\n",
      " -3.12764665e+02 -1.25214385e+02 -1.37265956e+02  1.00593537e+00\n",
      " -6.67311906e+02 -1.50773632e+02 -3.52038984e+01 -2.64936847e+02\n",
      "  2.70729267e+00 -6.38837696e+01  6.64114589e+00 -3.28781925e+02\n",
      " -8.76162161e+02 -1.30169397e+02 -6.02618597e+01 -1.23149688e+02\n",
      " -6.81310700e+01  7.14916717e+00  4.27349143e+00 -1.90329834e+02\n",
      "  3.26691954e+00 -6.02090279e+01  1.57029464e+00 -9.99946922e-01\n",
      " -1.36954117e+01  1.26753198e+00  1.92696029e+00  1.09790877e+00\n",
      "  1.64004598e+00 -2.01924506e+00  3.14274275e+00 -1.99418408e+02\n",
      " -1.75097932e+01 -4.00538569e+02 -1.17573148e+02  3.98211072e+00\n",
      "  2.28929158e+00 -1.30706941e+02 -1.30979251e+02 -6.11323240e+01\n",
      "  1.08566407e+00  9.46703326e-01 -1.69318118e+02  4.08728624e+00\n",
      "  1.94425761e+01 -1.20601694e+02 -2.03144153e+02 -1.16377062e+01\n",
      "  4.43697070e+00 -1.16821108e+01 -1.67346214e+02 -1.36653858e+00\n",
      "  1.19719144e+02 -2.01944700e+01 -7.87493679e+00  2.81020697e+00\n",
      "  1.56420926e+01  3.73509158e+00  3.91008507e+00  9.53862933e-01\n",
      " -3.84304042e+02  6.91191376e+00  2.83559406e+00  1.02634172e+01\n",
      " -1.70811664e+02  9.96258691e-01  4.16516443e+00 -6.91773278e+00\n",
      "  2.92366285e+00 -5.20856180e+01  9.89198625e-01 -2.54648537e+02\n",
      "  1.26363412e+00 -2.10539306e+02  2.64989944e+01  2.44832431e+00\n",
      " -9.57977223e+01  5.43274430e+00  8.70517235e+01 -9.18172200e+02\n",
      " -2.95703892e+02 -9.36509910e+00 -2.93043305e+02 -1.13965982e+01\n",
      "  8.16601956e+00 -3.84303680e+02 -1.63052983e+02 -2.69416519e+01\n",
      " -1.25243753e+02 -1.95194823e+01  4.45384854e+01 -7.44298504e+01\n",
      "  1.41720794e+00  4.50717887e-01  1.87363050e+00  2.60957404e+00\n",
      "  2.69663589e+00 -1.44688626e+02  1.45821699e+00  1.29924884e+00\n",
      "  5.36630066e+00 -3.24376838e+02  1.29069020e+00 -4.07134303e+01\n",
      "  1.04128515e+00 -2.90393963e+02 -1.13966067e+02 -5.09849987e+01\n",
      "  3.40259238e+00  2.30709219e+01  2.48297419e+00  2.80540961e+00\n",
      "  1.70485207e+00 -1.23539124e+02  1.73887369e+01 -2.24756703e+02\n",
      " -1.50598395e+02 -1.80642210e+01 -9.90907977e+01 -3.40758462e+01\n",
      " -4.11274896e+01  2.60787784e+00 -6.77751537e+01 -5.56189640e+01\n",
      "  1.70049925e+00  3.92684825e+00 -1.37932913e+02 -1.34905788e+02\n",
      " -1.01828981e+02 -9.23148295e+02  8.71148490e+00 -2.44143015e+02\n",
      "  2.74571548e+00 -1.32819094e+02  3.73465814e+00  1.33490227e+00\n",
      " -3.63667126e+02 -1.14217724e+02  7.45784839e+00 -2.21203735e+02\n",
      " -1.43629242e+02  1.08189453e+02  1.05536832e+01  1.64547320e+00\n",
      "  1.24416460e+00 -1.54561408e+02 -1.24407343e+02  1.70506035e+00\n",
      "  3.84684455e+00  1.67981743e+00 -5.10633453e+00 -1.03386363e+03\n",
      "  2.60495570e+00  9.97114735e+01  9.33773360e+01  1.84331221e+00\n",
      " -7.51589459e+01 -8.42208348e-01 -9.99445640e-01 -4.25107345e+02\n",
      " -1.07399056e+02 -2.08472726e+01 -1.14997203e+02 -2.31964217e+02\n",
      " -9.99946922e-01 -5.74911771e+01  9.09977141e+01  3.64965835e+00\n",
      "  2.76835179e+00  5.28726630e+01  6.54172533e+00 -2.55023603e+01\n",
      "  1.08744608e+00 -2.45748719e+01 -9.79220143e+02 -2.29220128e-01\n",
      "  1.81790042e+01  5.62927071e+01  5.34609337e+00 -1.23517319e+02\n",
      "  1.03223436e+00 -2.03690423e+02  4.94283472e+00  1.71587129e+00\n",
      "  1.21234446e+00  2.23050021e+00 -9.45323214e+01 -1.62989806e+01\n",
      " -7.07806083e+01  7.58286234e-01 -1.34212895e+01  1.85356724e+00\n",
      "  1.03543155e+00  1.85336614e+01 -4.09707858e+02 -1.51675501e+02\n",
      " -1.29722099e+02 -2.81849970e+01 -9.49819457e+01 -2.98546915e+01\n",
      "  4.88151110e+00 -1.28838467e+02 -2.59136443e-01 -9.67539833e+00\n",
      " -6.32497469e+01 -6.55707432e+01  5.97274940e+01  2.99126631e+00\n",
      " -6.63262378e+01 -1.23517533e+02 -6.59866840e+00  8.77817979e+00\n",
      "  1.08644087e+00 -7.30616374e+01  1.14746615e+00 -9.25193423e+00\n",
      "  1.97408894e+01  6.22847317e-01  2.37262331e+00  1.01592639e+00\n",
      " -1.91100496e+01 -4.19767565e+01 -3.63484241e+02]\n"
     ]
    }
   ],
   "source": [
    "print(decision_function)"
   ]
  },
  {
   "cell_type": "code",
   "execution_count": 18,
   "id": "f639f38f-7dad-4a45-86eb-1f16aa5ee2eb",
   "metadata": {},
   "outputs": [
    {
     "name": "stdout",
     "output_type": "stream",
     "text": [
      "svc.gamma:  2\n",
      "svc.degree:  3\n"
     ]
    }
   ],
   "source": [
    "import numpy as np\n",
    "print(\"svc.gamma: \", svc.gamma)\n",
    "print(\"svc.degree: \", svc.degree)\n",
    "\n",
    "sv=open(\"../data-kernel-model/support_vectors_poly.txt\",\"w\")\n",
    "dual_coeff=open(\"../data-kernel-model/dual_coeff_poly.txt\",\"w\")\n",
    "intercept=open(\"../data-kernel-model/intercept_poly.txt\",\"w\")\n",
    "xtestSample=\"../data-kernel-model/xtest_poly.txt\"\n",
    "ytestSample=\"../data-kernel-model/ytest_poly.txt\"\n",
    "ytestClassificationScore=\"../data-kernel-model/yclassificationscore.txt\"\n",
    "\n",
    "np.savetxt(sv,svc.support_vectors_)\n",
    "    \n",
    "np.savetxt(dual_coeff,svc.dual_coef_,delimiter=' ')\n",
    "np.savetxt(intercept,svc.intercept_,delimiter=' ')\n",
    "\n",
    "with open(xtestSample, \"w\") as f1:\n",
    "    for item in X_test.head(1).iloc[0].values:\n",
    "        f1.write(str(item) + \" \")\n",
    "        \n",
    "np.savetxt(ytestSample,y_test.head(1), delimiter=' ')\n",
    "with open(ytestClassificationScore, \"w\") as f2:\n",
    "    f2.write(str(decision_function[0]))\n",
    "    \n",
    "sv.close()\n",
    "dual_coeff.close()\n",
    "intercept.close()\n",
    "f1.close()\n",
    "f2.close()"
   ]
  },
  {
   "cell_type": "code",
   "execution_count": null,
   "id": "b973e4f0-0e4f-424a-a4d9-a56905e6d260",
   "metadata": {},
   "outputs": [],
   "source": []
  }
 ],
 "metadata": {
  "kernelspec": {
   "display_name": "Python 3 (ipykernel)",
   "language": "python",
   "name": "python3"
  },
  "language_info": {
   "codemirror_mode": {
    "name": "ipython",
    "version": 3
   },
   "file_extension": ".py",
   "mimetype": "text/x-python",
   "name": "python",
   "nbconvert_exporter": "python",
   "pygments_lexer": "ipython3",
   "version": "3.10.6"
  }
 },
 "nbformat": 4,
 "nbformat_minor": 5
}
