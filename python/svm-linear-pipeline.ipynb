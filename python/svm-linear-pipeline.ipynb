{
 "cells": [
  {
   "cell_type": "code",
   "execution_count": 1,
   "id": "022d7bed",
   "metadata": {},
   "outputs": [
    {
     "data": {
      "text/html": [
       "<div>\n",
       "<style scoped>\n",
       "    .dataframe tbody tr th:only-of-type {\n",
       "        vertical-align: middle;\n",
       "    }\n",
       "\n",
       "    .dataframe tbody tr th {\n",
       "        vertical-align: top;\n",
       "    }\n",
       "\n",
       "    .dataframe thead th {\n",
       "        text-align: right;\n",
       "    }\n",
       "</style>\n",
       "<table border=\"1\" class=\"dataframe\">\n",
       "  <thead>\n",
       "    <tr style=\"text-align: right;\">\n",
       "      <th></th>\n",
       "      <th>variance</th>\n",
       "      <th>skewness</th>\n",
       "      <th>curtosis</th>\n",
       "      <th>entropy</th>\n",
       "      <th>class</th>\n",
       "    </tr>\n",
       "  </thead>\n",
       "  <tbody>\n",
       "    <tr>\n",
       "      <th>0</th>\n",
       "      <td>3.62160</td>\n",
       "      <td>8.6661</td>\n",
       "      <td>-2.8073</td>\n",
       "      <td>-0.44699</td>\n",
       "      <td>0</td>\n",
       "    </tr>\n",
       "    <tr>\n",
       "      <th>1</th>\n",
       "      <td>4.54590</td>\n",
       "      <td>8.1674</td>\n",
       "      <td>-2.4586</td>\n",
       "      <td>-1.46210</td>\n",
       "      <td>0</td>\n",
       "    </tr>\n",
       "    <tr>\n",
       "      <th>2</th>\n",
       "      <td>3.86600</td>\n",
       "      <td>-2.6383</td>\n",
       "      <td>1.9242</td>\n",
       "      <td>0.10645</td>\n",
       "      <td>0</td>\n",
       "    </tr>\n",
       "    <tr>\n",
       "      <th>3</th>\n",
       "      <td>3.45660</td>\n",
       "      <td>9.5228</td>\n",
       "      <td>-4.0112</td>\n",
       "      <td>-3.59440</td>\n",
       "      <td>0</td>\n",
       "    </tr>\n",
       "    <tr>\n",
       "      <th>4</th>\n",
       "      <td>0.32924</td>\n",
       "      <td>-4.4552</td>\n",
       "      <td>4.5718</td>\n",
       "      <td>-0.98880</td>\n",
       "      <td>0</td>\n",
       "    </tr>\n",
       "  </tbody>\n",
       "</table>\n",
       "</div>"
      ],
      "text/plain": [
       "   variance  skewness  curtosis  entropy  class\n",
       "0   3.62160    8.6661   -2.8073 -0.44699      0\n",
       "1   4.54590    8.1674   -2.4586 -1.46210      0\n",
       "2   3.86600   -2.6383    1.9242  0.10645      0\n",
       "3   3.45660    9.5228   -4.0112 -3.59440      0\n",
       "4   0.32924   -4.4552    4.5718 -0.98880      0"
      ]
     },
     "execution_count": 1,
     "metadata": {},
     "output_type": "execute_result"
    }
   ],
   "source": [
    "# Tutorial is based on https://stackabuse.com/implementing-svm-and-kernel-svm-with-pythons-scikit-learn/\n",
    "# Forged bank notes dataset\n",
    "\n",
    "import pandas as pd\n",
    "import numpy as np\n",
    "\n",
    "data_link = \"https://archive.ics.uci.edu/ml/machine-learning-databases/00267/data_banknote_authentication.txt\"\n",
    "col_names = [\"variance\", \"skewness\", \"curtosis\", \"entropy\", \"class\"]\n",
    "\n",
    "bankdata = pd.read_csv(data_link, names=col_names, sep=\",\", header=None)\n",
    "bankdata.head()"
   ]
  },
  {
   "cell_type": "code",
   "execution_count": 2,
   "id": "e62734f4",
   "metadata": {},
   "outputs": [
    {
     "data": {
      "text/plain": [
       "array([0, 1], dtype=int64)"
      ]
     },
     "execution_count": 2,
     "metadata": {},
     "output_type": "execute_result"
    }
   ],
   "source": [
    "bankdata['class'].unique()"
   ]
  },
  {
   "cell_type": "code",
   "execution_count": 3,
   "id": "0cce393d",
   "metadata": {},
   "outputs": [
    {
     "data": {
      "text/plain": [
       "class\n",
       "0    762\n",
       "1    610\n",
       "Name: count, dtype: int64"
      ]
     },
     "execution_count": 3,
     "metadata": {},
     "output_type": "execute_result"
    }
   ],
   "source": [
    "bankdata['class'].value_counts()"
   ]
  },
  {
   "cell_type": "code",
   "execution_count": 4,
   "id": "3c4ca67f",
   "metadata": {},
   "outputs": [
    {
     "data": {
      "text/plain": [
       "class\n",
       "0    0.555394\n",
       "1    0.444606\n",
       "Name: proportion, dtype: float64"
      ]
     },
     "execution_count": 4,
     "metadata": {},
     "output_type": "execute_result"
    }
   ],
   "source": [
    "bankdata['class'].value_counts(normalize=True)"
   ]
  },
  {
   "cell_type": "code",
   "execution_count": 5,
   "id": "6a982b2b",
   "metadata": {},
   "outputs": [
    {
     "data": {
      "image/png": "[encoded data removed]",
      "text/plain": [
       "<Figure size 640x480 with 1 Axes>"
      ]
     },
     "metadata": {},
     "output_type": "display_data"
    }
   ],
   "source": [
    "bankdata['class'].plot.hist();"
   ]
  },
  {
   "cell_type": "code",
   "execution_count": 6,
   "id": "d979944e",
   "metadata": {},
   "outputs": [
    {
     "data": {
      "text/html": [
       "<div>\n",
       "<style scoped>\n",
       "    .dataframe tbody tr th:only-of-type {\n",
       "        vertical-align: middle;\n",
       "    }\n",
       "\n",
       "    .dataframe tbody tr th {\n",
       "        vertical-align: top;\n",
       "    }\n",
       "\n",
       "    .dataframe thead th {\n",
       "        text-align: right;\n",
       "    }\n",
       "</style>\n",
       "<table border=\"1\" class=\"dataframe\">\n",
       "  <thead>\n",
       "    <tr style=\"text-align: right;\">\n",
       "      <th></th>\n",
       "      <th>count</th>\n",
       "      <th>mean</th>\n",
       "      <th>std</th>\n",
       "      <th>min</th>\n",
       "      <th>25%</th>\n",
       "      <th>50%</th>\n",
       "      <th>75%</th>\n",
       "      <th>max</th>\n",
       "    </tr>\n",
       "  </thead>\n",
       "  <tbody>\n",
       "    <tr>\n",
       "      <th>variance</th>\n",
       "      <td>1372.0</td>\n",
       "      <td>0.433735</td>\n",
       "      <td>2.842763</td>\n",
       "      <td>-7.0421</td>\n",
       "      <td>-1.773000</td>\n",
       "      <td>0.49618</td>\n",
       "      <td>2.821475</td>\n",
       "      <td>6.8248</td>\n",
       "    </tr>\n",
       "    <tr>\n",
       "      <th>skewness</th>\n",
       "      <td>1372.0</td>\n",
       "      <td>1.922353</td>\n",
       "      <td>5.869047</td>\n",
       "      <td>-13.7731</td>\n",
       "      <td>-1.708200</td>\n",
       "      <td>2.31965</td>\n",
       "      <td>6.814625</td>\n",
       "      <td>12.9516</td>\n",
       "    </tr>\n",
       "    <tr>\n",
       "      <th>curtosis</th>\n",
       "      <td>1372.0</td>\n",
       "      <td>1.397627</td>\n",
       "      <td>4.310030</td>\n",
       "      <td>-5.2861</td>\n",
       "      <td>-1.574975</td>\n",
       "      <td>0.61663</td>\n",
       "      <td>3.179250</td>\n",
       "      <td>17.9274</td>\n",
       "    </tr>\n",
       "    <tr>\n",
       "      <th>entropy</th>\n",
       "      <td>1372.0</td>\n",
       "      <td>-1.191657</td>\n",
       "      <td>2.101013</td>\n",
       "      <td>-8.5482</td>\n",
       "      <td>-2.413450</td>\n",
       "      <td>-0.58665</td>\n",
       "      <td>0.394810</td>\n",
       "      <td>2.4495</td>\n",
       "    </tr>\n",
       "    <tr>\n",
       "      <th>class</th>\n",
       "      <td>1372.0</td>\n",
       "      <td>0.444606</td>\n",
       "      <td>0.497103</td>\n",
       "      <td>0.0000</td>\n",
       "      <td>0.000000</td>\n",
       "      <td>0.00000</td>\n",
       "      <td>1.000000</td>\n",
       "      <td>1.0000</td>\n",
       "    </tr>\n",
       "  </tbody>\n",
       "</table>\n",
       "</div>"
      ],
      "text/plain": [
       "           count      mean       std      min       25%      50%       75%   \n",
       "variance  1372.0  0.433735  2.842763  -7.0421 -1.773000  0.49618  2.821475  \\\n",
       "skewness  1372.0  1.922353  5.869047 -13.7731 -1.708200  2.31965  6.814625   \n",
       "curtosis  1372.0  1.397627  4.310030  -5.2861 -1.574975  0.61663  3.179250   \n",
       "entropy   1372.0 -1.191657  2.101013  -8.5482 -2.413450 -0.58665  0.394810   \n",
       "class     1372.0  0.444606  0.497103   0.0000  0.000000  0.00000  1.000000   \n",
       "\n",
       "              max  \n",
       "variance   6.8248  \n",
       "skewness  12.9516  \n",
       "curtosis  17.9274  \n",
       "entropy    2.4495  \n",
       "class      1.0000  "
      ]
     },
     "execution_count": 6,
     "metadata": {},
     "output_type": "execute_result"
    }
   ],
   "source": [
    "bankdata.describe().T"
   ]
  },
  {
   "cell_type": "code",
   "execution_count": 7,
   "id": "c7201b63",
   "metadata": {},
   "outputs": [],
   "source": [
    "# predictors vs class\n",
    "y = bankdata['class']\n",
    "X = bankdata.drop('class', axis=1) # axis=1 means dropping from the column axis"
   ]
  },
  {
   "cell_type": "code",
   "execution_count": 8,
   "id": "3a2e8af7",
   "metadata": {},
   "outputs": [],
   "source": [
    "from sklearn.model_selection import train_test_split\n",
    "SEED = 42\n",
    "X_train, X_test, y_train, y_test = train_test_split(X, y, test_size = 0.20, random_state = SEED)"
   ]
  },
  {
   "cell_type": "code",
   "execution_count": 9,
   "id": "f81e6774",
   "metadata": {},
   "outputs": [
    {
     "name": "stdout",
     "output_type": "stream",
     "text": [
      "There are 1097 samples for training and 275 samples for testing.\n"
     ]
    }
   ],
   "source": [
    "xtrain_samples = X_train.shape[0]\n",
    "xtest_samples = X_test.shape[0]\n",
    "\n",
    "print(f'There are {xtrain_samples} samples for training and {xtest_samples} samples for testing.')"
   ]
  },
  {
   "cell_type": "code",
   "execution_count": 10,
   "id": "ca9046f1",
   "metadata": {},
   "outputs": [],
   "source": [
    "from sklearn.svm import SVC\n",
    "svc = SVC(kernel='linear',verbose=1)"
   ]
  },
  {
   "cell_type": "code",
   "execution_count": 11,
   "id": "a9a7c152",
   "metadata": {},
   "outputs": [
    {
     "name": "stdout",
     "output_type": "stream",
     "text": [
      "[LibSVM]"
     ]
    },
    {
     "data": {
      "text/html": [
       "<style>#sk-container-id-1 {color: black;background-color: white;}#sk-container-id-1 pre{padding: 0;}#sk-container-id-1 div.sk-toggleable {background-color: white;}#sk-container-id-1 label.sk-toggleable__label {cursor: pointer;display: block;width: 100%;margin-bottom: 0;padding: 0.3em;box-sizing: border-box;text-align: center;}#sk-container-id-1 label.sk-toggleable__label-arrow:before {content: \"▸\";float: left;margin-right: 0.25em;color: #696969;}#sk-container-id-1 label.sk-toggleable__label-arrow:hover:before {color: black;}#sk-container-id-1 div.sk-estimator:hover label.sk-toggleable__label-arrow:before {color: black;}#sk-container-id-1 div.sk-toggleable__content {max-height: 0;max-width: 0;overflow: hidden;text-align: left;background-color: #f0f8ff;}#sk-container-id-1 div.sk-toggleable__content pre {margin: 0.2em;color: black;border-radius: 0.25em;background-color: #f0f8ff;}#sk-container-id-1 input.sk-toggleable__control:checked~div.sk-toggleable__content {max-height: 200px;max-width: 100%;overflow: auto;}#sk-container-id-1 input.sk-toggleable__control:checked~label.sk-toggleable__label-arrow:before {content: \"▾\";}#sk-container-id-1 div.sk-estimator input.sk-toggleable__control:checked~label.sk-toggleable__label {background-color: #d4ebff;}#sk-container-id-1 div.sk-label input.sk-toggleable__control:checked~label.sk-toggleable__label {background-color: #d4ebff;}#sk-container-id-1 input.sk-hidden--visually {border: 0;clip: rect(1px 1px 1px 1px);clip: rect(1px, 1px, 1px, 1px);height: 1px;margin: -1px;overflow: hidden;padding: 0;position: absolute;width: 1px;}#sk-container-id-1 div.sk-estimator {font-family: monospace;background-color: #f0f8ff;border: 1px dotted black;border-radius: 0.25em;box-sizing: border-box;margin-bottom: 0.5em;}#sk-container-id-1 div.sk-estimator:hover {background-color: #d4ebff;}#sk-container-id-1 div.sk-parallel-item::after {content: \"\";width: 100%;border-bottom: 1px solid gray;flex-grow: 1;}#sk-container-id-1 div.sk-label:hover label.sk-toggleable__label {background-color: #d4ebff;}#sk-container-id-1 div.sk-serial::before {content: \"\";position: absolute;border-left: 1px solid gray;box-sizing: border-box;top: 0;bottom: 0;left: 50%;z-index: 0;}#sk-container-id-1 div.sk-serial {display: flex;flex-direction: column;align-items: center;background-color: white;padding-right: 0.2em;padding-left: 0.2em;position: relative;}#sk-container-id-1 div.sk-item {position: relative;z-index: 1;}#sk-container-id-1 div.sk-parallel {display: flex;align-items: stretch;justify-content: center;background-color: white;position: relative;}#sk-container-id-1 div.sk-item::before, #sk-container-id-1 div.sk-parallel-item::before {content: \"\";position: absolute;border-left: 1px solid gray;box-sizing: border-box;top: 0;bottom: 0;left: 50%;z-index: -1;}#sk-container-id-1 div.sk-parallel-item {display: flex;flex-direction: column;z-index: 1;position: relative;background-color: white;}#sk-container-id-1 div.sk-parallel-item:first-child::after {align-self: flex-end;width: 50%;}#sk-container-id-1 div.sk-parallel-item:last-child::after {align-self: flex-start;width: 50%;}#sk-container-id-1 div.sk-parallel-item:only-child::after {width: 0;}#sk-container-id-1 div.sk-dashed-wrapped {border: 1px dashed gray;margin: 0 0.4em 0.5em 0.4em;box-sizing: border-box;padding-bottom: 0.4em;background-color: white;}#sk-container-id-1 div.sk-label label {font-family: monospace;font-weight: bold;display: inline-block;line-height: 1.2em;}#sk-container-id-1 div.sk-label-container {text-align: center;}#sk-container-id-1 div.sk-container {/* jupyter's `normalize.less` sets `[hidden] { display: none; }` but bootstrap.min.css set `[hidden] { display: none !important; }` so we also need the `!important` here to be able to override the default hidden behavior on the sphinx rendered scikit-learn.org. See: https://github.com/scikit-learn/scikit-learn/issues/21755 */display: inline-block !important;position: relative;}#sk-container-id-1 div.sk-text-repr-fallback {display: none;}</style><div id=\"sk-container-id-1\" class=\"sk-top-container\"><div class=\"sk-text-repr-fallback\"><pre>SVC(kernel=&#x27;linear&#x27;, verbose=1)</pre><b>In a Jupyter environment, please rerun this cell to show the HTML representation or trust the notebook. <br />On GitHub, the HTML representation is unable to render, please try loading this page with nbviewer.org.</b></div><div class=\"sk-container\" hidden><div class=\"sk-item\"><div class=\"sk-estimator sk-toggleable\"><input class=\"sk-toggleable__control sk-hidden--visually\" id=\"sk-estimator-id-1\" type=\"checkbox\" checked><label for=\"sk-estimator-id-1\" class=\"sk-toggleable__label sk-toggleable__label-arrow\">SVC</label><div class=\"sk-toggleable__content\"><pre>SVC(kernel=&#x27;linear&#x27;, verbose=1)</pre></div></div></div></div></div>"
      ],
      "text/plain": [
       "SVC(kernel='linear', verbose=1)"
      ]
     },
     "execution_count": 11,
     "metadata": {},
     "output_type": "execute_result"
    }
   ],
   "source": [
    "svc.fit(X_train, y_train)"
   ]
  },
  {
   "cell_type": "code",
   "execution_count": 12,
   "id": "3926a586",
   "metadata": {},
   "outputs": [],
   "source": [
    "y_pred = svc.predict(X_test)"
   ]
  },
  {
   "cell_type": "code",
   "execution_count": 13,
   "id": "dfd48d8c",
   "metadata": {},
   "outputs": [
    {
     "name": "stdout",
     "output_type": "stream",
     "text": [
      "              precision    recall  f1-score   support\n",
      "\n",
      "           0       0.99      0.99      0.99       148\n",
      "           1       0.98      0.98      0.98       127\n",
      "\n",
      "    accuracy                           0.99       275\n",
      "   macro avg       0.99      0.99      0.99       275\n",
      "weighted avg       0.99      0.99      0.99       275\n",
      "\n"
     ]
    },
    {
     "data": {
      "image/png": "[encoded data removed]",
      "text/plain": [
       "<Figure size 640x480 with 2 Axes>"
      ]
     },
     "metadata": {},
     "output_type": "display_data"
    }
   ],
   "source": [
    "import seaborn as sns\n",
    "from sklearn.metrics import classification_report, confusion_matrix\n",
    "\n",
    "cm = confusion_matrix(y_test,y_pred)\n",
    "sns.heatmap(cm, annot=True, fmt='d').set_title('Confusion matrix of linear SVM') # fmt='d' formats the numbers as digits, which means integers\n",
    "\n",
    "print(classification_report(y_test,y_pred))"
   ]
  },
  {
   "cell_type": "code",
   "execution_count": 14,
   "id": "74117154",
   "metadata": {},
   "outputs": [
    {
     "name": "stdout",
     "output_type": "stream",
     "text": [
      "              precision    recall  f1-score   support\n",
      "\n",
      "           0       0.99      0.99      0.99       614\n",
      "           1       0.98      0.99      0.99       483\n",
      "\n",
      "    accuracy                           0.99      1097\n",
      "   macro avg       0.99      0.99      0.99      1097\n",
      "weighted avg       0.99      0.99      0.99      1097\n",
      "\n"
     ]
    },
    {
     "data": {
      "image/png": "[encoded data removed]",
      "text/plain": [
       "<Figure size 640x480 with 2 Axes>"
      ]
     },
     "metadata": {},
     "output_type": "display_data"
    }
   ],
   "source": [
    "y_pred_train = svc.predict(X_train)\n",
    "\n",
    "cm_train = confusion_matrix(y_train,y_pred_train)\n",
    "sns.heatmap(cm_train, annot=True, fmt='d').set_title('Confusion matrix of linear SVM with train data')\n",
    "\n",
    "print(classification_report(y_train,y_pred_train))"
   ]
  },
  {
   "cell_type": "code",
   "execution_count": 15,
   "id": "ca42c77a",
   "metadata": {},
   "outputs": [
    {
     "data": {
      "text/html": [
       "<div>\n",
       "<style scoped>\n",
       "    .dataframe tbody tr th:only-of-type {\n",
       "        vertical-align: middle;\n",
       "    }\n",
       "\n",
       "    .dataframe tbody tr th {\n",
       "        vertical-align: top;\n",
       "    }\n",
       "\n",
       "    .dataframe thead th {\n",
       "        text-align: right;\n",
       "    }\n",
       "</style>\n",
       "<table border=\"1\" class=\"dataframe\">\n",
       "  <thead>\n",
       "    <tr style=\"text-align: right;\">\n",
       "      <th></th>\n",
       "      <th>variance</th>\n",
       "      <th>skewness</th>\n",
       "      <th>curtosis</th>\n",
       "      <th>entropy</th>\n",
       "    </tr>\n",
       "  </thead>\n",
       "  <tbody>\n",
       "    <tr>\n",
       "      <th>430</th>\n",
       "      <td>1.569100</td>\n",
       "      <td>6.3465</td>\n",
       "      <td>-0.1828</td>\n",
       "      <td>-2.4099</td>\n",
       "    </tr>\n",
       "    <tr>\n",
       "      <th>588</th>\n",
       "      <td>-0.278020</td>\n",
       "      <td>8.1881</td>\n",
       "      <td>-3.1338</td>\n",
       "      <td>-2.5276</td>\n",
       "    </tr>\n",
       "    <tr>\n",
       "      <th>296</th>\n",
       "      <td>0.051979</td>\n",
       "      <td>7.0521</td>\n",
       "      <td>-2.0541</td>\n",
       "      <td>-3.1508</td>\n",
       "    </tr>\n",
       "    <tr>\n",
       "      <th>184</th>\n",
       "      <td>-1.755900</td>\n",
       "      <td>11.9459</td>\n",
       "      <td>3.0946</td>\n",
       "      <td>-4.8978</td>\n",
       "    </tr>\n",
       "    <tr>\n",
       "      <th>244</th>\n",
       "      <td>2.428700</td>\n",
       "      <td>9.3821</td>\n",
       "      <td>-3.2477</td>\n",
       "      <td>-1.4543</td>\n",
       "    </tr>\n",
       "  </tbody>\n",
       "</table>\n",
       "</div>"
      ],
      "text/plain": [
       "     variance  skewness  curtosis  entropy\n",
       "430  1.569100    6.3465   -0.1828  -2.4099\n",
       "588 -0.278020    8.1881   -3.1338  -2.5276\n",
       "296  0.051979    7.0521   -2.0541  -3.1508\n",
       "184 -1.755900   11.9459    3.0946  -4.8978\n",
       "244  2.428700    9.3821   -3.2477  -1.4543"
      ]
     },
     "execution_count": 15,
     "metadata": {},
     "output_type": "execute_result"
    }
   ],
   "source": [
    "X_test.head()"
   ]
  },
  {
   "cell_type": "code",
   "execution_count": 16,
   "id": "73f08551",
   "metadata": {},
   "outputs": [
    {
     "data": {
      "text/plain": [
       "{'C': 1.0,\n",
       " 'break_ties': False,\n",
       " 'cache_size': 200,\n",
       " 'class_weight': None,\n",
       " 'coef0': 0.0,\n",
       " 'decision_function_shape': 'ovr',\n",
       " 'degree': 3,\n",
       " 'gamma': 'scale',\n",
       " 'kernel': 'linear',\n",
       " 'max_iter': -1,\n",
       " 'probability': False,\n",
       " 'random_state': None,\n",
       " 'shrinking': True,\n",
       " 'tol': 0.001,\n",
       " 'verbose': 1}"
      ]
     },
     "execution_count": 16,
     "metadata": {},
     "output_type": "execute_result"
    }
   ],
   "source": [
    "svc.get_params()"
   ]
  },
  {
   "cell_type": "code",
   "execution_count": 17,
   "id": "aa1076e5",
   "metadata": {},
   "outputs": [
    {
     "name": "stdout",
     "output_type": "stream",
     "text": [
      "[19 16]\n"
     ]
    }
   ],
   "source": [
    "print(svc.n_support_)"
   ]
  },
  {
   "cell_type": "code",
   "execution_count": 18,
   "id": "69ca5f57",
   "metadata": {},
   "outputs": [
    {
     "name": "stdout",
     "output_type": "stream",
     "text": [
      "[[-2.38527586 -1.3827194  -1.66569688 -0.23719489]]\n"
     ]
    }
   ],
   "source": [
    "print(svc.coef_)"
   ]
  },
  {
   "cell_type": "code",
   "execution_count": 19,
   "id": "d75f7d76",
   "metadata": {},
   "outputs": [
    {
     "name": "stdout",
     "output_type": "stream",
     "text": [
      "[[-2.38527586 -1.3827194  -1.66569688 -0.23719489]]\n"
     ]
    }
   ],
   "source": [
    "print(np.matmul(svc.dual_coef_,svc.support_vectors_))"
   ]
  },
  {
   "cell_type": "code",
   "execution_count": 20,
   "id": "eca1ff69",
   "metadata": {},
   "outputs": [
    {
     "name": "stdout",
     "output_type": "stream",
     "text": [
      "[ -9.37914702  -2.57628299  -3.44328546 -14.05954161 -10.74838223\n",
      "  -9.3801806  -10.33814127 -12.34639327 -10.57723216 -11.99784934\n",
      "   1.08046242   5.24268197 -10.3676849    3.50459429  -9.54036049\n",
      "   1.26936211   3.51186843   3.74847065   1.79742418   0.91224909\n",
      " -10.91290891 -11.56651232   1.37798557 -12.76612829   7.52125111\n",
      " -12.06689489 -13.94061975   3.99227381 -16.32947376 -15.68148386\n",
      "   6.30404887 -10.14422846  -8.19740074   6.43276395   6.87939453\n",
      " -13.13933577   0.63261004   4.26591577   5.85805389 -10.99041781\n",
      " -11.70360856   5.85456815   3.81922569 -10.54444726   7.32276572\n",
      "   3.8472821    6.0842172   -6.7320533   -7.84852716   2.00559208\n",
      "  -6.83697353 -13.44214819  -9.26289141 -12.47586591  -8.32948069\n",
      "   3.17821812  -7.7365619  -14.31377203  -7.04884015 -12.32850103\n",
      "   5.8875578  -10.91678107   4.44171166 -14.90860737 -12.02263183\n",
      " -13.2938666  -11.90350326 -11.53170027  -5.56336161   4.8583083\n",
      "   1.19759075 -10.01881214   3.28184653 -14.97297106   2.64301947\n",
      "   0.62343281  -8.05192159   5.52486316   4.65151172   2.14668702\n",
      "   2.73924332  -2.98329295   4.64437623 -10.31945002  -2.85011275\n",
      " -14.45145129 -12.90748598   6.21079803   2.92024816 -12.12522035\n",
      " -12.72489721 -11.7481228    1.71599046   4.54808147 -10.64692083\n",
      "   2.4193209    7.34168495  -4.51546502 -10.58990202  -6.40953999\n",
      "   3.8264635  -10.0486296   -9.80624101 -10.61392533   7.16480875\n",
      " -13.15551609 -10.85306059   3.93504245   3.63622592   0.71006085\n",
      "   5.73695579   2.20944978 -13.47632996   5.65274727   4.95088922\n",
      "   8.38039915 -15.07521738   6.81674154   8.1100964  -11.79711961\n",
      "   0.83760363  -9.3801983    0.94869631 -13.65577665   2.72436075\n",
      " -10.94299313   7.65744488   3.0246789  -10.35669098   6.08193177\n",
      "   5.91262205 -12.76449105  -9.0338444   -8.68439778 -12.4791386\n",
      "  -7.38608024   5.46385857 -13.9426012   -9.05822293  -1.00013749\n",
      " -10.86200617  -6.09846477   6.25451611  -8.43508668   3.04661206\n",
      "  -0.3279276    2.42311729   4.37975952   5.89756972 -12.13248627\n",
      "   2.00353823   3.20859525   7.34090347 -14.89084416   2.41631129\n",
      " -13.35455288   3.71320335 -10.68877564 -11.53868317 -11.00668293\n",
      "   8.43815547   8.14446818   8.11639226   3.33948898   3.23315912\n",
      " -13.43700511   7.74884022 -11.86674784 -14.26492273  -8.41325452\n",
      "  -4.34286417 -12.33352902 -10.26248195   6.33038156 -10.14426652\n",
      "  -9.88855917   5.93023656   9.17257006  -9.02041382 -13.64141574\n",
      "  -2.20910834 -12.28477049   7.85626749 -11.03147098   5.90263561\n",
      " -13.09591612   5.89425794   5.83675457 -12.59908453 -12.28141116\n",
      "   3.81259248 -12.04192871  -8.88550683   9.39128259   6.13951034\n",
      "   3.27283943   3.11101398 -10.46251463  -8.91491916   5.25062936\n",
      "   4.26217937   5.7974674   -9.44138319 -12.5477275    6.44745894\n",
      "   8.90997853   6.62204406   4.60418229  -8.97474121 -11.22987899\n",
      "  -0.9994172  -13.45616027 -10.79847947  -6.27861723 -15.27267123\n",
      " -12.3333329    0.62343281  -9.87955484   6.14313707   2.48121136\n",
      "   5.13430113   6.90990776   6.03154879  -7.48996249   3.45359526\n",
      " -10.71447011 -13.83342627   2.20779355   2.92735409   6.84837598\n",
      "   5.25794973 -11.9291717    1.018891   -11.96544007   0.77519646\n",
      "   5.4730722    2.97502913   6.76862143 -11.24320361  -8.41827765\n",
      "  -6.62368174   6.77989713  -7.98734611   6.22876229   2.43567444\n",
      "   8.54870203 -10.1961436  -11.72491454 -14.05870747  -7.72759912\n",
      " -16.02413552 -10.44511288   7.68788773  -2.5240487   -0.74492712\n",
      "  -8.67560823 -11.20171788 -11.14940274   5.47529016   5.44627534\n",
      "  -7.96178615  -3.60434671 -11.82770417   3.95045778   2.39967876\n",
      " -11.24632953   5.04851483 -11.10855993   6.6540755    2.50492183\n",
      "   2.99642231   1.04143986  -5.78228604  -2.5763307  -12.58778813]\n"
     ]
    }
   ],
   "source": [
    "decision_function = svc.decision_function(X_test)\n",
    "print(decision_function)"
   ]
  },
  {
   "cell_type": "code",
   "execution_count": 21,
   "id": "18a8ebae",
   "metadata": {},
   "outputs": [],
   "source": [
    "# write parameters and data to file\n",
    "weights=open(\"./data-linear-model/weights.txt\",\"w\")\n",
    "bias=open(\"./data-linear-model/bias.txt\",\"w\")\n",
    "xtestSample=\"./data-linear-model/xtest.txt\"\n",
    "ytestSample=open(\"./data-linear-model/ytest.txt\",\"w\")\n",
    "ytestClassificationScore=\"./data-linear-model/yclassificationscore.txt\"\n",
    "\n",
    "np.savetxt(weights,svc.coef_, delimiter=' ')\n",
    "np.savetxt(bias,svc.intercept_, delimiter=' ')\n",
    "#np.savetxt(xtestSample,X_test.head(1).iloc[0].values, delimiter=' ')\n",
    "with open(xtestSample, \"w\") as f1:\n",
    "    for item in X_test.head(1).iloc[0].values:\n",
    "        f1.write(str(item) + \" \")\n",
    "\n",
    "np.savetxt(ytestSample,y_test.head(1), delimiter=' ')\n",
    "with open(ytestClassificationScore, \"w\") as f2:\n",
    "    f2.write(str(decision_function[0]))\n",
    "\n",
    "\n",
    "weights.close()\n",
    "bias.close()\n",
    "ytestSample.close()\n",
    "f1.close()\n",
    "f2.close()"
   ]
  }
 ],
 "metadata": {
  "kernelspec": {
   "display_name": "Python 3 (ipykernel)",
   "language": "python",
   "name": "python3"
  },
  "language_info": {
   "codemirror_mode": {
    "name": "ipython",
    "version": 3
   },
   "file_extension": ".py",
   "mimetype": "text/x-python",
   "name": "python",
   "nbconvert_exporter": "python",
   "pygments_lexer": "ipython3",
   "version": "3.10.9"
  }
 },
 "nbformat": 4,
 "nbformat_minor": 5
}
